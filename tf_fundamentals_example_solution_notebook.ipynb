{
  "nbformat": 4,
  "nbformat_minor": 0,
  "metadata": {
    "colab": {
      "provenance": [],
      "mount_file_id": "1uHK0_rb3O5J1ukxLs_QP5FYdMaAHsRqq",
      "authorship_tag": "ABX9TyPDPEbdV4S3+4+I9FEPG4uG",
      "include_colab_link": true
    },
    "kernelspec": {
      "name": "python3",
      "display_name": "Python 3"
    },
    "language_info": {
      "name": "python"
    },
    "accelerator": "GPU",
    "gpuClass": "standard"
  },
  "cells": [
    {
      "cell_type": "markdown",
      "metadata": {
        "id": "view-in-github",
        "colab_type": "text"
      },
      "source": [
        "<a href=\"https://colab.research.google.com/github/amirli21/tensorflow-classification-example/blob/main/tf_fundamentals_example_solution_notebook.ipynb\" target=\"_parent\"><img src=\"https://colab.research.google.com/assets/colab-badge.svg\" alt=\"Open In Colab\"/></a>"
      ]
    },
    {
      "cell_type": "markdown",
      "source": [
        "# Tensorflow fundamentals \n",
        "\n",
        "# Classification example notebook"
      ],
      "metadata": {
        "id": "fkMGXZmVwZQP"
      }
    },
    {
      "cell_type": "markdown",
      "source": [
        "**Useful links**\n",
        "\n",
        "Learn more about [google colab](https://www.jcchouinard.com/google-colab-with-python/)\n",
        "\n",
        "*See help section* : CMD/CTRL M + h\n",
        "\n",
        "*See pandas display options* : https://stackoverflow.com/questions/11707586/how-do-i-expand-the-output-display-to-see-more-columns-of-a-pandas-dataframe\n",
        "\n",
        "*`pandas.Series.plot()` documentation* : https://pandas.pydata.org/docs/reference/api/pandas.Series.plot.html\n",
        "\n",
        "General information for data science(used it for visualization) : https://inferentialthinking.com/chapters/intro.html\n",
        "\n",
        "Normality test : https://www.statology.org/normality-test-python/\n",
        "\n",
        "General information for data science : https://www.statology.org\n",
        "\n",
        "Apply change to the column : https://pandas.pydata.org/docs/reference/api/pandas.DataFrame.apply.html\n",
        "\n",
        "More about *`pandas.Series.value_counts()`* : https://pandas.pydata.org/docs/reference/api/pandas.Series.value_counts.html\n",
        "\n",
        "More about boolean masks for `pandas.DataFrame`s : https://stackoverflow.com/questions/38802675/create-bool-mask-from-filter-results-in-pandas\n",
        "\n",
        "More about **loan grading** : https://www.investopedia.com/terms/l/loan-grading.asp\n",
        "\n",
        "Plotting `pandas.Series` with **seaborn** : https://stackoverflow.com/questions/46793448/plotting-series-using-seaborn"
      ],
      "metadata": {
        "id": "Twg4CaFaz95J"
      }
    },
    {
      "cell_type": "markdown",
      "source": [
        "## Before we begin\n",
        "\n",
        "### Data\n",
        "\n",
        "We will be using a subset of the LendingClub DataSet obtained from Kaggle: https://www.kaggle.com/wordsforthewise/lending-club\n",
        "\n",
        "\n",
        "LendingClub is a US peer-to-peer lending company, headquartered in San Francisco, California. It was the first peer-to-peer lender to register its offerings as securities with the Securities and Exchange Commission (SEC), and to offer loan trading on a secondary market. LendingClub is the world's largest peer-to-peer lending platform.\n",
        "\n",
        "\n",
        "### Our Goal\n",
        "\n",
        "Given historical data on loans given out with information on whether or not the borrower defaulted (charge-off), can we build a model thatcan predict wether or nor a borrower will pay back their loan? This way in the future when we get a new potential customer we can assess whether or not they are likely to pay back the loan. Keep in mind classification metrics when evaluating the performance of your model!\n",
        "\n",
        "The `loan_status` column contains our label.\n",
        "\n",
        "#### Data Overview\n",
        "\n",
        "\n",
        "----\n",
        "-----\n",
        "There are many LendingClub data sets on Kaggle. Here is the information on this particular data set:\n",
        "\n",
        "<table border=\"1\" class=\"dataframe\">\n",
        "  <thead>\n",
        "    <tr style=\"text-align: right;\">\n",
        "      <th></th>\n",
        "      <th>LoanStatNew</th>\n",
        "      <th>Description</th>\n",
        "    </tr>\n",
        "  </thead>\n",
        "  <tbody>\n",
        "    <tr>\n",
        "      <th>0</th>\n",
        "      <td>loan_amnt</td>\n",
        "      <td>The listed amount of the loan applied for by the borrower. If at some point in time, the credit department reduces the loan amount, then it will be reflected in this value.</td>\n",
        "    </tr>\n",
        "    <tr>\n",
        "      <th>1</th>\n",
        "      <td>term</td>\n",
        "      <td>The number of payments on the loan. Values are in months and can be either 36 or 60.</td>\n",
        "    </tr>\n",
        "    <tr>\n",
        "      <th>2</th>\n",
        "      <td>int_rate</td>\n",
        "      <td>Interest Rate on the loan</td>\n",
        "    </tr>\n",
        "    <tr>\n",
        "      <th>3</th>\n",
        "      <td>installment</td>\n",
        "      <td>The monthly payment owed by the borrower if the loan originates.</td>\n",
        "    </tr>\n",
        "    <tr>\n",
        "      <th>4</th>\n",
        "      <td>grade</td>\n",
        "      <td>LC assigned loan grade</td>\n",
        "    </tr>\n",
        "    <tr>\n",
        "      <th>5</th>\n",
        "      <td>sub_grade</td>\n",
        "      <td>LC assigned loan subgrade</td>\n",
        "    </tr>\n",
        "    <tr>\n",
        "      <th>6</th>\n",
        "      <td>emp_title</td>\n",
        "      <td>The job title supplied by the Borrower when applying for the loan.*</td>\n",
        "    </tr>\n",
        "    <tr>\n",
        "      <th>7</th>\n",
        "      <td>emp_length</td>\n",
        "      <td>Employment length in years. Possible values are between 0 and 10 where 0 means less than one year and 10 means ten or more years.</td>\n",
        "    </tr>\n",
        "    <tr>\n",
        "      <th>8</th>\n",
        "      <td>home_ownership</td>\n",
        "      <td>The home ownership status provided by the borrower during registration or obtained from the credit report. Our values are: RENT, OWN, MORTGAGE, OTHER</td>\n",
        "    </tr>\n",
        "    <tr>\n",
        "      <th>9</th>\n",
        "      <td>annual_inc</td>\n",
        "      <td>The self-reported annual income provided by the borrower during registration.</td>\n",
        "    </tr>\n",
        "    <tr>\n",
        "      <th>10</th>\n",
        "      <td>verification_status</td>\n",
        "      <td>Indicates if income was verified by LC, not verified, or if the income source was verified</td>\n",
        "    </tr>\n",
        "    <tr>\n",
        "      <th>11</th>\n",
        "      <td>issue_d</td>\n",
        "      <td>The month which the loan was funded</td>\n",
        "    </tr>\n",
        "    <tr>\n",
        "      <th>12</th>\n",
        "      <td>loan_status</td>\n",
        "      <td>Current status of the loan</td>\n",
        "    </tr>\n",
        "    <tr>\n",
        "      <th>13</th>\n",
        "      <td>purpose</td>\n",
        "      <td>A category provided by the borrower for the loan request.</td>\n",
        "    </tr>\n",
        "    <tr>\n",
        "      <th>14</th>\n",
        "      <td>title</td>\n",
        "      <td>The loan title provided by the borrower</td>\n",
        "    </tr>\n",
        "    <tr>\n",
        "      <th>15</th>\n",
        "      <td>zip_code</td>\n",
        "      <td>The first 3 numbers of the zip code provided by the borrower in the loan application.</td>\n",
        "    </tr>\n",
        "    <tr>\n",
        "      <th>16</th>\n",
        "      <td>addr_state</td>\n",
        "      <td>The state provided by the borrower in the loan application</td>\n",
        "    </tr>\n",
        "    <tr>\n",
        "      <th>17</th>\n",
        "      <td>dti</td>\n",
        "      <td>A ratio calculated using the borrower’s total monthly debt payments on the total debt obligations, excluding mortgage and the requested LC loan, divided by the borrower’s self-reported monthly income.</td>\n",
        "    </tr>\n",
        "    <tr>\n",
        "      <th>18</th>\n",
        "      <td>earliest_cr_line</td>\n",
        "      <td>The month the borrower's earliest reported credit line was opened</td>\n",
        "    </tr>\n",
        "    <tr>\n",
        "      <th>19</th>\n",
        "      <td>open_acc</td>\n",
        "      <td>The number of open credit lines in the borrower's credit file.</td>\n",
        "    </tr>\n",
        "    <tr>\n",
        "      <th>20</th>\n",
        "      <td>pub_rec</td>\n",
        "      <td>Number of derogatory public records</td>\n",
        "    </tr>\n",
        "    <tr>\n",
        "      <th>21</th>\n",
        "      <td>revol_bal</td>\n",
        "      <td>Total credit revolving balance</td>\n",
        "    </tr>\n",
        "    <tr>\n",
        "      <th>22</th>\n",
        "      <td>revol_util</td>\n",
        "      <td>Revolving line utilization rate, or the amount of credit the borrower is using relative to all available revolving credit.</td>\n",
        "    </tr>\n",
        "    <tr>\n",
        "      <th>23</th>\n",
        "      <td>total_acc</td>\n",
        "      <td>The total number of credit lines currently in the borrower's credit file</td>\n",
        "    </tr>\n",
        "    <tr>\n",
        "      <th>24</th>\n",
        "      <td>initial_list_status</td>\n",
        "      <td>The initial listing status of the loan. Possible values are – W, F</td>\n",
        "    </tr>\n",
        "    <tr>\n",
        "      <th>25</th>\n",
        "      <td>application_type</td>\n",
        "      <td>Indicates whether the loan is an individual application or a joint application with two co-borrowers</td>\n",
        "    </tr>\n",
        "    <tr>\n",
        "      <th>26</th>\n",
        "      <td>mort_acc</td>\n",
        "      <td>Number of mortgage accounts.</td>\n",
        "    </tr>\n",
        "    <tr>\n",
        "      <th>27</th>\n",
        "      <td>pub_rec_bankruptcies</td>\n",
        "      <td>Number of public record bankruptcies</td>\n",
        "    </tr>\n",
        "  </tbody>\n",
        "</table>\n",
        "\n",
        "---\n",
        "----"
      ],
      "metadata": {
        "id": "vNkSwYIk4Rz4"
      }
    },
    {
      "cell_type": "code",
      "source": [
        "data_folder = '/content/drive/MyDrive/DATA/'\n",
        "info_path = 'lending_club_info.csv'\n",
        "data_path = 'lending_club_loan_two.csv'"
      ],
      "metadata": {
        "id": "0tQE6I0mxRQs"
      },
      "execution_count": 1,
      "outputs": []
    },
    {
      "cell_type": "markdown",
      "source": [
        "## Loading the data and other imports"
      ],
      "metadata": {
        "id": "RPmgKomLw9_N"
      }
    },
    {
      "cell_type": "code",
      "source": [
        "import pandas as pd\n",
        "import numpy as np\n",
        "import matplotlib.pyplot as plt\n",
        "import seaborn as sns\n",
        "import warnings # to handle warnings\n",
        "from scipy.stats import shapiro\n",
        "import random\n",
        "from sklearn.svm import LinearSVC\n",
        "from sklearn.linear_model import LogisticRegression\n",
        "from sklearn.ensemble import GradientBoostingClassifier\n",
        "from sklearn.metrics import confusion_matrix, ConfusionMatrixDisplay, classification_report\n",
        "# we'll look at the classification report, since data is imbalanced\n",
        "from sklearn.preprocessing import MinMaxScaler\n",
        "from sklearn.model_selection import train_test_split\n",
        "\n",
        "# ann\n",
        "import tensorflow as tf\n",
        "from tensorflow.keras.models import Sequential\n",
        "from tensorflow.keras.layers import Dense, Dropout\n",
        "\n",
        "\n",
        "\n",
        "warnings.filterwarnings('ignore')\n",
        "pd.set_option('display.max_columns', 500)\n",
        "%matplotlib inline\n",
        "\n",
        "palettes = [\n",
        "    'Accent', 'Accent_r', 'Blues', 'Blues_r', 'BrBG', 'BrBG_r',\n",
        "    'BuGn', 'BuGn_r', 'BuPu', 'BuPu_r', 'CMRmap', 'CMRmap_r',\n",
        "    'Dark2', 'Dark2_r', 'GnBu', 'GnBu_r', 'Greens', 'Greens_r',\n",
        "    'Greys', 'Greys_r', 'OrRd', 'OrRd_r', 'Oranges', 'Oranges_r', 'PRGn',\n",
        "    'PRGn_r', 'Paired', 'Paired_r', 'Pastel1', 'Pastel1_r', 'Pastel2',\n",
        "    'Pastel2_r', 'PiYG', 'PiYG_r', 'PuBu', 'PuBuGn', 'PuBuGn_r', 'PuBu_r',\n",
        "    'PuOr', 'PuOr_r', 'PuRd', 'PuRd_r', 'Purples', 'Purples_r', 'RdBu',\n",
        "    'RdBu_r', 'RdGy', 'RdGy_r', 'RdPu', 'RdPu_r', 'RdYlBu', 'RdYlBu_r',\n",
        "    'RdYlGn', 'RdYlGn_r', 'Reds', 'Reds_r', 'Set1', 'Set1_r', 'Set2', \n",
        "    'Set2_r', 'Set3', 'Set3_r', 'Spectral', 'Spectral_r', 'Wistia',\n",
        "    'Wistia_r', 'YlGn', 'YlGnBu', 'YlGnBu_r', 'YlGn_r', 'YlOrBr', 'YlOrBr_r',\n",
        "    'YlOrRd', 'YlOrRd_r', 'afmhot', 'afmhot_r', 'autumn', 'autumn_r', 'binary','binary_r',\n",
        "    'bone', 'bone_r', 'brg', 'brg_r', 'bwr', 'bwr_r', 'cividis', 'cividis_r', 'cool', 'cool_r',\n",
        "    'coolwarm', 'coolwarm_r', 'copper', 'copper_r', 'crest', 'crest_r', 'cubehelix',\n",
        "    'cubehelix_r', 'flag', 'flag_r', 'flare', 'flare_r', 'gist_earth', 'gist_earth_r',\n",
        "    'gist_gray', 'gist_gray_r', 'gist_heat', 'gist_heat_r', 'gist_ncar', 'gist_ncar_r',\n",
        "    'gist_rainbow', 'gist_rainbow_r', 'gist_stern', 'gist_stern_r', 'gist_yarg',\n",
        "    'gist_yarg_r', 'gnuplot', 'gnuplot2', 'gnuplot2_r', 'gnuplot_r', 'gray', 'gray_r',\n",
        "    'hot', 'hot_r', 'hsv', 'hsv_r', 'icefire', 'icefire_r', 'inferno', 'inferno_r', 'jet', 'jet_r'\n",
        "]"
      ],
      "metadata": {
        "id": "3MQ6Ugle9GRH"
      },
      "execution_count": 2,
      "outputs": []
    },
    {
      "cell_type": "code",
      "source": [
        "info_df = pd.read_csv(data_folder + info_path, index_col='LoanStatNew')\n",
        "\n",
        "data = pd.read_csv(data_folder + data_path)"
      ],
      "metadata": {
        "id": "RQzZKEpk9b3G"
      },
      "execution_count": 3,
      "outputs": []
    },
    {
      "cell_type": "markdown",
      "source": [
        "## EDA and Data Preprocessing"
      ],
      "metadata": {
        "id": "3mILwLnaLFlQ"
      }
    },
    {
      "cell_type": "code",
      "source": [
        "def get_col_description(col_name:str) -> None:\n",
        "  print()\n",
        "  try:\n",
        "    print(f'Column name: {col_name}')\n",
        "    print()\n",
        "    print(f'Data type of the column: {data[col_name].dtype}')\n",
        "    print()\n",
        "    description = info_df.loc[col_name][\"Description\"]\n",
        "    if len(description) > 122:\n",
        "      print(f'Column information: {description[:122]}')\n",
        "      print()\n",
        "      print(f'                   {description[122:]}')\n",
        "    else:\n",
        "      print(f'Column information: {description}')\n",
        "    print()\n",
        "  except KeyError:\n",
        "    print(f'{col_name} is not presented in the dataframe')\n",
        "    print()\n"
      ],
      "metadata": {
        "id": "xtatSNuK9rg6"
      },
      "execution_count": 4,
      "outputs": []
    },
    {
      "cell_type": "code",
      "source": [
        "col_names = list(data.columns)"
      ],
      "metadata": {
        "id": "egG4Iu8c9tqG"
      },
      "execution_count": 5,
      "outputs": []
    },
    {
      "cell_type": "markdown",
      "source": [
        "<a name='data_info'></a>\n",
        "### DATA INFORMATION"
      ],
      "metadata": {
        "id": "md_5LPE3LTpz"
      }
    },
    {
      "cell_type": "code",
      "source": [
        "print('DATA INFORMATION'.center(150, '-'))\n",
        "for col in col_names:\n",
        "  get_col_description(col)\n",
        "  print(\"*\" * 150)"
      ],
      "metadata": {
        "colab": {
          "base_uri": "https://localhost:8080/"
        },
        "id": "RcKmeD7tETWo",
        "outputId": "f64eae4b-7152-4291-8b5d-6fcfdaceba0f"
      },
      "execution_count": 6,
      "outputs": [
        {
          "output_type": "stream",
          "name": "stdout",
          "text": [
            "-------------------------------------------------------------------DATA INFORMATION-------------------------------------------------------------------\n",
            "\n",
            "Column name: loan_amnt\n",
            "\n",
            "Data type of the column: float64\n",
            "\n",
            "Column information: The listed amount of the loan applied for by the borrower. If at some point in time, the credit department reduces the loa\n",
            "\n",
            "                   n amount, then it will be reflected in this value.\n",
            "\n",
            "******************************************************************************************************************************************************\n",
            "\n",
            "Column name: term\n",
            "\n",
            "Data type of the column: object\n",
            "\n",
            "Column information: The number of payments on the loan. Values are in months and can be either 36 or 60.\n",
            "\n",
            "******************************************************************************************************************************************************\n",
            "\n",
            "Column name: int_rate\n",
            "\n",
            "Data type of the column: float64\n",
            "\n",
            "Column information: Interest Rate on the loan\n",
            "\n",
            "******************************************************************************************************************************************************\n",
            "\n",
            "Column name: installment\n",
            "\n",
            "Data type of the column: float64\n",
            "\n",
            "Column information: The monthly payment owed by the borrower if the loan originates.\n",
            "\n",
            "******************************************************************************************************************************************************\n",
            "\n",
            "Column name: grade\n",
            "\n",
            "Data type of the column: object\n",
            "\n",
            "Column information: LC assigned loan grade\n",
            "\n",
            "******************************************************************************************************************************************************\n",
            "\n",
            "Column name: sub_grade\n",
            "\n",
            "Data type of the column: object\n",
            "\n",
            "Column information: LC assigned loan subgrade\n",
            "\n",
            "******************************************************************************************************************************************************\n",
            "\n",
            "Column name: emp_title\n",
            "\n",
            "Data type of the column: object\n",
            "\n",
            "Column information: The job title supplied by the Borrower when applying for the loan.*\n",
            "\n",
            "******************************************************************************************************************************************************\n",
            "\n",
            "Column name: emp_length\n",
            "\n",
            "Data type of the column: object\n",
            "\n",
            "Column information: Employment length in years. Possible values are between 0 and 10 where 0 means less than one year and 10 means ten or more\n",
            "\n",
            "                    years. \n",
            "\n",
            "******************************************************************************************************************************************************\n",
            "\n",
            "Column name: home_ownership\n",
            "\n",
            "Data type of the column: object\n",
            "\n",
            "Column information: The home ownership status provided by the borrower during registration or obtained from the credit report. Our values are:\n",
            "\n",
            "                    RENT, OWN, MORTGAGE, OTHER\n",
            "\n",
            "******************************************************************************************************************************************************\n",
            "\n",
            "Column name: annual_inc\n",
            "\n",
            "Data type of the column: float64\n",
            "\n",
            "Column information: The self-reported annual income provided by the borrower during registration.\n",
            "\n",
            "******************************************************************************************************************************************************\n",
            "\n",
            "Column name: verification_status\n",
            "\n",
            "Data type of the column: object\n",
            "\n",
            "Column information: Indicates if income was verified by LC, not verified, or if the income source was verified\n",
            "\n",
            "******************************************************************************************************************************************************\n",
            "\n",
            "Column name: issue_d\n",
            "\n",
            "Data type of the column: object\n",
            "\n",
            "Column information: The month which the loan was funded\n",
            "\n",
            "******************************************************************************************************************************************************\n",
            "\n",
            "Column name: loan_status\n",
            "\n",
            "Data type of the column: object\n",
            "\n",
            "Column information: Current status of the loan\n",
            "\n",
            "******************************************************************************************************************************************************\n",
            "\n",
            "Column name: purpose\n",
            "\n",
            "Data type of the column: object\n",
            "\n",
            "Column information: A category provided by the borrower for the loan request. \n",
            "\n",
            "******************************************************************************************************************************************************\n",
            "\n",
            "Column name: title\n",
            "\n",
            "Data type of the column: object\n",
            "\n",
            "Column information: The loan title provided by the borrower\n",
            "\n",
            "******************************************************************************************************************************************************\n",
            "\n",
            "Column name: dti\n",
            "\n",
            "Data type of the column: float64\n",
            "\n",
            "Column information: A ratio calculated using the borrower’s total monthly debt payments on the total debt obligations, excluding mortgage and \n",
            "\n",
            "                   the requested LC loan, divided by the borrower’s self-reported monthly income.\n",
            "\n",
            "******************************************************************************************************************************************************\n",
            "\n",
            "Column name: earliest_cr_line\n",
            "\n",
            "Data type of the column: object\n",
            "\n",
            "Column information: The month the borrower's earliest reported credit line was opened\n",
            "\n",
            "******************************************************************************************************************************************************\n",
            "\n",
            "Column name: open_acc\n",
            "\n",
            "Data type of the column: float64\n",
            "\n",
            "Column information: The number of open credit lines in the borrower's credit file.\n",
            "\n",
            "******************************************************************************************************************************************************\n",
            "\n",
            "Column name: pub_rec\n",
            "\n",
            "Data type of the column: float64\n",
            "\n",
            "Column information: Number of derogatory public records\n",
            "\n",
            "******************************************************************************************************************************************************\n",
            "\n",
            "Column name: revol_bal\n",
            "\n",
            "Data type of the column: float64\n",
            "\n",
            "Column information: Total credit revolving balance\n",
            "\n",
            "******************************************************************************************************************************************************\n",
            "\n",
            "Column name: revol_util\n",
            "\n",
            "Data type of the column: float64\n",
            "\n",
            "Column information: Revolving line utilization rate, or the amount of credit the borrower is using relative to all available revolving credit.\n",
            "\n",
            "******************************************************************************************************************************************************\n",
            "\n",
            "Column name: total_acc\n",
            "\n",
            "Data type of the column: float64\n",
            "\n",
            "Column information: The total number of credit lines currently in the borrower's credit file\n",
            "\n",
            "******************************************************************************************************************************************************\n",
            "\n",
            "Column name: initial_list_status\n",
            "\n",
            "Data type of the column: object\n",
            "\n",
            "Column information: The initial listing status of the loan. Possible values are – W, F\n",
            "\n",
            "******************************************************************************************************************************************************\n",
            "\n",
            "Column name: application_type\n",
            "\n",
            "Data type of the column: object\n",
            "\n",
            "Column information: Indicates whether the loan is an individual application or a joint application with two co-borrowers\n",
            "\n",
            "******************************************************************************************************************************************************\n",
            "\n",
            "Column name: mort_acc\n",
            "\n",
            "Data type of the column: float64\n",
            "\n",
            "Column information: Number of mortgage accounts.\n",
            "\n",
            "******************************************************************************************************************************************************\n",
            "\n",
            "Column name: pub_rec_bankruptcies\n",
            "\n",
            "Data type of the column: float64\n",
            "\n",
            "Column information: Number of public record bankruptcies\n",
            "\n",
            "******************************************************************************************************************************************************\n",
            "\n",
            "Column name: address\n",
            "\n",
            "Data type of the column: object\n",
            "\n",
            "address is not presented in the dataframe\n",
            "\n",
            "******************************************************************************************************************************************************\n"
          ]
        }
      ]
    },
    {
      "cell_type": "code",
      "source": [
        "data.head()"
      ],
      "metadata": {
        "colab": {
          "base_uri": "https://localhost:8080/",
          "height": 444
        },
        "id": "OVTUd6BHF9vv",
        "outputId": "f4e372e5-6a7e-41f3-af46-0b2034a302b5"
      },
      "execution_count": 7,
      "outputs": [
        {
          "output_type": "execute_result",
          "data": {
            "text/plain": [
              "   loan_amnt        term  int_rate  installment grade sub_grade  \\\n",
              "0    10000.0   36 months     11.44       329.48     B        B4   \n",
              "1     8000.0   36 months     11.99       265.68     B        B5   \n",
              "2    15600.0   36 months     10.49       506.97     B        B3   \n",
              "3     7200.0   36 months      6.49       220.65     A        A2   \n",
              "4    24375.0   60 months     17.27       609.33     C        C5   \n",
              "\n",
              "                 emp_title emp_length home_ownership  annual_inc  \\\n",
              "0                Marketing  10+ years           RENT    117000.0   \n",
              "1          Credit analyst     4 years       MORTGAGE     65000.0   \n",
              "2             Statistician   < 1 year           RENT     43057.0   \n",
              "3          Client Advocate    6 years           RENT     54000.0   \n",
              "4  Destiny Management Inc.    9 years       MORTGAGE     55000.0   \n",
              "\n",
              "  verification_status   issue_d  loan_status             purpose  \\\n",
              "0        Not Verified  Jan-2015   Fully Paid            vacation   \n",
              "1        Not Verified  Jan-2015   Fully Paid  debt_consolidation   \n",
              "2     Source Verified  Jan-2015   Fully Paid         credit_card   \n",
              "3        Not Verified  Nov-2014   Fully Paid         credit_card   \n",
              "4            Verified  Apr-2013  Charged Off         credit_card   \n",
              "\n",
              "                     title    dti earliest_cr_line  open_acc  pub_rec  \\\n",
              "0                 Vacation  26.24         Jun-1990      16.0      0.0   \n",
              "1       Debt consolidation  22.05         Jul-2004      17.0      0.0   \n",
              "2  Credit card refinancing  12.79         Aug-2007      13.0      0.0   \n",
              "3  Credit card refinancing   2.60         Sep-2006       6.0      0.0   \n",
              "4    Credit Card Refinance  33.95         Mar-1999      13.0      0.0   \n",
              "\n",
              "   revol_bal  revol_util  total_acc initial_list_status application_type  \\\n",
              "0    36369.0        41.8       25.0                   w       INDIVIDUAL   \n",
              "1    20131.0        53.3       27.0                   f       INDIVIDUAL   \n",
              "2    11987.0        92.2       26.0                   f       INDIVIDUAL   \n",
              "3     5472.0        21.5       13.0                   f       INDIVIDUAL   \n",
              "4    24584.0        69.8       43.0                   f       INDIVIDUAL   \n",
              "\n",
              "   mort_acc  pub_rec_bankruptcies  \\\n",
              "0       0.0                   0.0   \n",
              "1       3.0                   0.0   \n",
              "2       0.0                   0.0   \n",
              "3       0.0                   0.0   \n",
              "4       1.0                   0.0   \n",
              "\n",
              "                                             address  \n",
              "0     0174 Michelle Gateway\\r\\nMendozaberg, OK 22690  \n",
              "1  1076 Carney Fort Apt. 347\\r\\nLoganmouth, SD 05113  \n",
              "2  87025 Mark Dale Apt. 269\\r\\nNew Sabrina, WV 05113  \n",
              "3            823 Reid Ford\\r\\nDelacruzside, MA 00813  \n",
              "4             679 Luna Roads\\r\\nGreggshire, VA 11650  "
            ],
            "text/html": [
              "\n",
              "  <div id=\"df-2bc7b9cb-538c-4848-b329-77ae497044a9\">\n",
              "    <div class=\"colab-df-container\">\n",
              "      <div>\n",
              "<style scoped>\n",
              "    .dataframe tbody tr th:only-of-type {\n",
              "        vertical-align: middle;\n",
              "    }\n",
              "\n",
              "    .dataframe tbody tr th {\n",
              "        vertical-align: top;\n",
              "    }\n",
              "\n",
              "    .dataframe thead th {\n",
              "        text-align: right;\n",
              "    }\n",
              "</style>\n",
              "<table border=\"1\" class=\"dataframe\">\n",
              "  <thead>\n",
              "    <tr style=\"text-align: right;\">\n",
              "      <th></th>\n",
              "      <th>loan_amnt</th>\n",
              "      <th>term</th>\n",
              "      <th>int_rate</th>\n",
              "      <th>installment</th>\n",
              "      <th>grade</th>\n",
              "      <th>sub_grade</th>\n",
              "      <th>emp_title</th>\n",
              "      <th>emp_length</th>\n",
              "      <th>home_ownership</th>\n",
              "      <th>annual_inc</th>\n",
              "      <th>verification_status</th>\n",
              "      <th>issue_d</th>\n",
              "      <th>loan_status</th>\n",
              "      <th>purpose</th>\n",
              "      <th>title</th>\n",
              "      <th>dti</th>\n",
              "      <th>earliest_cr_line</th>\n",
              "      <th>open_acc</th>\n",
              "      <th>pub_rec</th>\n",
              "      <th>revol_bal</th>\n",
              "      <th>revol_util</th>\n",
              "      <th>total_acc</th>\n",
              "      <th>initial_list_status</th>\n",
              "      <th>application_type</th>\n",
              "      <th>mort_acc</th>\n",
              "      <th>pub_rec_bankruptcies</th>\n",
              "      <th>address</th>\n",
              "    </tr>\n",
              "  </thead>\n",
              "  <tbody>\n",
              "    <tr>\n",
              "      <th>0</th>\n",
              "      <td>10000.0</td>\n",
              "      <td>36 months</td>\n",
              "      <td>11.44</td>\n",
              "      <td>329.48</td>\n",
              "      <td>B</td>\n",
              "      <td>B4</td>\n",
              "      <td>Marketing</td>\n",
              "      <td>10+ years</td>\n",
              "      <td>RENT</td>\n",
              "      <td>117000.0</td>\n",
              "      <td>Not Verified</td>\n",
              "      <td>Jan-2015</td>\n",
              "      <td>Fully Paid</td>\n",
              "      <td>vacation</td>\n",
              "      <td>Vacation</td>\n",
              "      <td>26.24</td>\n",
              "      <td>Jun-1990</td>\n",
              "      <td>16.0</td>\n",
              "      <td>0.0</td>\n",
              "      <td>36369.0</td>\n",
              "      <td>41.8</td>\n",
              "      <td>25.0</td>\n",
              "      <td>w</td>\n",
              "      <td>INDIVIDUAL</td>\n",
              "      <td>0.0</td>\n",
              "      <td>0.0</td>\n",
              "      <td>0174 Michelle Gateway\\r\\nMendozaberg, OK 22690</td>\n",
              "    </tr>\n",
              "    <tr>\n",
              "      <th>1</th>\n",
              "      <td>8000.0</td>\n",
              "      <td>36 months</td>\n",
              "      <td>11.99</td>\n",
              "      <td>265.68</td>\n",
              "      <td>B</td>\n",
              "      <td>B5</td>\n",
              "      <td>Credit analyst</td>\n",
              "      <td>4 years</td>\n",
              "      <td>MORTGAGE</td>\n",
              "      <td>65000.0</td>\n",
              "      <td>Not Verified</td>\n",
              "      <td>Jan-2015</td>\n",
              "      <td>Fully Paid</td>\n",
              "      <td>debt_consolidation</td>\n",
              "      <td>Debt consolidation</td>\n",
              "      <td>22.05</td>\n",
              "      <td>Jul-2004</td>\n",
              "      <td>17.0</td>\n",
              "      <td>0.0</td>\n",
              "      <td>20131.0</td>\n",
              "      <td>53.3</td>\n",
              "      <td>27.0</td>\n",
              "      <td>f</td>\n",
              "      <td>INDIVIDUAL</td>\n",
              "      <td>3.0</td>\n",
              "      <td>0.0</td>\n",
              "      <td>1076 Carney Fort Apt. 347\\r\\nLoganmouth, SD 05113</td>\n",
              "    </tr>\n",
              "    <tr>\n",
              "      <th>2</th>\n",
              "      <td>15600.0</td>\n",
              "      <td>36 months</td>\n",
              "      <td>10.49</td>\n",
              "      <td>506.97</td>\n",
              "      <td>B</td>\n",
              "      <td>B3</td>\n",
              "      <td>Statistician</td>\n",
              "      <td>&lt; 1 year</td>\n",
              "      <td>RENT</td>\n",
              "      <td>43057.0</td>\n",
              "      <td>Source Verified</td>\n",
              "      <td>Jan-2015</td>\n",
              "      <td>Fully Paid</td>\n",
              "      <td>credit_card</td>\n",
              "      <td>Credit card refinancing</td>\n",
              "      <td>12.79</td>\n",
              "      <td>Aug-2007</td>\n",
              "      <td>13.0</td>\n",
              "      <td>0.0</td>\n",
              "      <td>11987.0</td>\n",
              "      <td>92.2</td>\n",
              "      <td>26.0</td>\n",
              "      <td>f</td>\n",
              "      <td>INDIVIDUAL</td>\n",
              "      <td>0.0</td>\n",
              "      <td>0.0</td>\n",
              "      <td>87025 Mark Dale Apt. 269\\r\\nNew Sabrina, WV 05113</td>\n",
              "    </tr>\n",
              "    <tr>\n",
              "      <th>3</th>\n",
              "      <td>7200.0</td>\n",
              "      <td>36 months</td>\n",
              "      <td>6.49</td>\n",
              "      <td>220.65</td>\n",
              "      <td>A</td>\n",
              "      <td>A2</td>\n",
              "      <td>Client Advocate</td>\n",
              "      <td>6 years</td>\n",
              "      <td>RENT</td>\n",
              "      <td>54000.0</td>\n",
              "      <td>Not Verified</td>\n",
              "      <td>Nov-2014</td>\n",
              "      <td>Fully Paid</td>\n",
              "      <td>credit_card</td>\n",
              "      <td>Credit card refinancing</td>\n",
              "      <td>2.60</td>\n",
              "      <td>Sep-2006</td>\n",
              "      <td>6.0</td>\n",
              "      <td>0.0</td>\n",
              "      <td>5472.0</td>\n",
              "      <td>21.5</td>\n",
              "      <td>13.0</td>\n",
              "      <td>f</td>\n",
              "      <td>INDIVIDUAL</td>\n",
              "      <td>0.0</td>\n",
              "      <td>0.0</td>\n",
              "      <td>823 Reid Ford\\r\\nDelacruzside, MA 00813</td>\n",
              "    </tr>\n",
              "    <tr>\n",
              "      <th>4</th>\n",
              "      <td>24375.0</td>\n",
              "      <td>60 months</td>\n",
              "      <td>17.27</td>\n",
              "      <td>609.33</td>\n",
              "      <td>C</td>\n",
              "      <td>C5</td>\n",
              "      <td>Destiny Management Inc.</td>\n",
              "      <td>9 years</td>\n",
              "      <td>MORTGAGE</td>\n",
              "      <td>55000.0</td>\n",
              "      <td>Verified</td>\n",
              "      <td>Apr-2013</td>\n",
              "      <td>Charged Off</td>\n",
              "      <td>credit_card</td>\n",
              "      <td>Credit Card Refinance</td>\n",
              "      <td>33.95</td>\n",
              "      <td>Mar-1999</td>\n",
              "      <td>13.0</td>\n",
              "      <td>0.0</td>\n",
              "      <td>24584.0</td>\n",
              "      <td>69.8</td>\n",
              "      <td>43.0</td>\n",
              "      <td>f</td>\n",
              "      <td>INDIVIDUAL</td>\n",
              "      <td>1.0</td>\n",
              "      <td>0.0</td>\n",
              "      <td>679 Luna Roads\\r\\nGreggshire, VA 11650</td>\n",
              "    </tr>\n",
              "  </tbody>\n",
              "</table>\n",
              "</div>\n",
              "      <button class=\"colab-df-convert\" onclick=\"convertToInteractive('df-2bc7b9cb-538c-4848-b329-77ae497044a9')\"\n",
              "              title=\"Convert this dataframe to an interactive table.\"\n",
              "              style=\"display:none;\">\n",
              "        \n",
              "  <svg xmlns=\"http://www.w3.org/2000/svg\" height=\"24px\"viewBox=\"0 0 24 24\"\n",
              "       width=\"24px\">\n",
              "    <path d=\"M0 0h24v24H0V0z\" fill=\"none\"/>\n",
              "    <path d=\"M18.56 5.44l.94 2.06.94-2.06 2.06-.94-2.06-.94-.94-2.06-.94 2.06-2.06.94zm-11 1L8.5 8.5l.94-2.06 2.06-.94-2.06-.94L8.5 2.5l-.94 2.06-2.06.94zm10 10l.94 2.06.94-2.06 2.06-.94-2.06-.94-.94-2.06-.94 2.06-2.06.94z\"/><path d=\"M17.41 7.96l-1.37-1.37c-.4-.4-.92-.59-1.43-.59-.52 0-1.04.2-1.43.59L10.3 9.45l-7.72 7.72c-.78.78-.78 2.05 0 2.83L4 21.41c.39.39.9.59 1.41.59.51 0 1.02-.2 1.41-.59l7.78-7.78 2.81-2.81c.8-.78.8-2.07 0-2.86zM5.41 20L4 18.59l7.72-7.72 1.47 1.35L5.41 20z\"/>\n",
              "  </svg>\n",
              "      </button>\n",
              "      \n",
              "  <style>\n",
              "    .colab-df-container {\n",
              "      display:flex;\n",
              "      flex-wrap:wrap;\n",
              "      gap: 12px;\n",
              "    }\n",
              "\n",
              "    .colab-df-convert {\n",
              "      background-color: #E8F0FE;\n",
              "      border: none;\n",
              "      border-radius: 50%;\n",
              "      cursor: pointer;\n",
              "      display: none;\n",
              "      fill: #1967D2;\n",
              "      height: 32px;\n",
              "      padding: 0 0 0 0;\n",
              "      width: 32px;\n",
              "    }\n",
              "\n",
              "    .colab-df-convert:hover {\n",
              "      background-color: #E2EBFA;\n",
              "      box-shadow: 0px 1px 2px rgba(60, 64, 67, 0.3), 0px 1px 3px 1px rgba(60, 64, 67, 0.15);\n",
              "      fill: #174EA6;\n",
              "    }\n",
              "\n",
              "    [theme=dark] .colab-df-convert {\n",
              "      background-color: #3B4455;\n",
              "      fill: #D2E3FC;\n",
              "    }\n",
              "\n",
              "    [theme=dark] .colab-df-convert:hover {\n",
              "      background-color: #434B5C;\n",
              "      box-shadow: 0px 1px 3px 1px rgba(0, 0, 0, 0.15);\n",
              "      filter: drop-shadow(0px 1px 2px rgba(0, 0, 0, 0.3));\n",
              "      fill: #FFFFFF;\n",
              "    }\n",
              "  </style>\n",
              "\n",
              "      <script>\n",
              "        const buttonEl =\n",
              "          document.querySelector('#df-2bc7b9cb-538c-4848-b329-77ae497044a9 button.colab-df-convert');\n",
              "        buttonEl.style.display =\n",
              "          google.colab.kernel.accessAllowed ? 'block' : 'none';\n",
              "\n",
              "        async function convertToInteractive(key) {\n",
              "          const element = document.querySelector('#df-2bc7b9cb-538c-4848-b329-77ae497044a9');\n",
              "          const dataTable =\n",
              "            await google.colab.kernel.invokeFunction('convertToInteractive',\n",
              "                                                     [key], {});\n",
              "          if (!dataTable) return;\n",
              "\n",
              "          const docLinkHtml = 'Like what you see? Visit the ' +\n",
              "            '<a target=\"_blank\" href=https://colab.research.google.com/notebooks/data_table.ipynb>data table notebook</a>'\n",
              "            + ' to learn more about interactive tables.';\n",
              "          element.innerHTML = '';\n",
              "          dataTable['output_type'] = 'display_data';\n",
              "          await google.colab.output.renderOutput(dataTable, element);\n",
              "          const docLink = document.createElement('div');\n",
              "          docLink.innerHTML = docLinkHtml;\n",
              "          element.appendChild(docLink);\n",
              "        }\n",
              "      </script>\n",
              "    </div>\n",
              "  </div>\n",
              "  "
            ]
          },
          "metadata": {},
          "execution_count": 7
        }
      ]
    },
    {
      "cell_type": "code",
      "source": [
        "data.info()"
      ],
      "metadata": {
        "colab": {
          "base_uri": "https://localhost:8080/"
        },
        "id": "wq89z817KEWQ",
        "outputId": "c57ec318-ced9-426e-ce70-85cfcb017506"
      },
      "execution_count": 8,
      "outputs": [
        {
          "output_type": "stream",
          "name": "stdout",
          "text": [
            "<class 'pandas.core.frame.DataFrame'>\n",
            "RangeIndex: 396030 entries, 0 to 396029\n",
            "Data columns (total 27 columns):\n",
            " #   Column                Non-Null Count   Dtype  \n",
            "---  ------                --------------   -----  \n",
            " 0   loan_amnt             396030 non-null  float64\n",
            " 1   term                  396030 non-null  object \n",
            " 2   int_rate              396030 non-null  float64\n",
            " 3   installment           396030 non-null  float64\n",
            " 4   grade                 396030 non-null  object \n",
            " 5   sub_grade             396030 non-null  object \n",
            " 6   emp_title             373103 non-null  object \n",
            " 7   emp_length            377729 non-null  object \n",
            " 8   home_ownership        396030 non-null  object \n",
            " 9   annual_inc            396030 non-null  float64\n",
            " 10  verification_status   396030 non-null  object \n",
            " 11  issue_d               396030 non-null  object \n",
            " 12  loan_status           396030 non-null  object \n",
            " 13  purpose               396030 non-null  object \n",
            " 14  title                 394275 non-null  object \n",
            " 15  dti                   396030 non-null  float64\n",
            " 16  earliest_cr_line      396030 non-null  object \n",
            " 17  open_acc              396030 non-null  float64\n",
            " 18  pub_rec               396030 non-null  float64\n",
            " 19  revol_bal             396030 non-null  float64\n",
            " 20  revol_util            395754 non-null  float64\n",
            " 21  total_acc             396030 non-null  float64\n",
            " 22  initial_list_status   396030 non-null  object \n",
            " 23  application_type      396030 non-null  object \n",
            " 24  mort_acc              358235 non-null  float64\n",
            " 25  pub_rec_bankruptcies  395495 non-null  float64\n",
            " 26  address               396030 non-null  object \n",
            "dtypes: float64(12), object(15)\n",
            "memory usage: 81.6+ MB\n"
          ]
        }
      ]
    },
    {
      "cell_type": "markdown",
      "source": [
        "### EDA for Single Columns\n",
        "\n",
        "For information refer to [DATA INFORMATION](#data_info)"
      ],
      "metadata": {
        "id": "YlHmIdmzK-dQ"
      }
    },
    {
      "cell_type": "markdown",
      "source": [
        "#### loan_amnt column"
      ],
      "metadata": {
        "id": "sm085HLNMdc3"
      }
    },
    {
      "cell_type": "code",
      "source": [
        "data['loan_amnt'].describe()"
      ],
      "metadata": {
        "colab": {
          "base_uri": "https://localhost:8080/"
        },
        "id": "6vQBK3OUN1ZL",
        "outputId": "a4007d45-171a-4f1d-a1f5-e762393eda47"
      },
      "execution_count": 9,
      "outputs": [
        {
          "output_type": "execute_result",
          "data": {
            "text/plain": [
              "count    396030.000000\n",
              "mean      14113.888089\n",
              "std        8357.441341\n",
              "min         500.000000\n",
              "25%        8000.000000\n",
              "50%       12000.000000\n",
              "75%       20000.000000\n",
              "max       40000.000000\n",
              "Name: loan_amnt, dtype: float64"
            ]
          },
          "metadata": {},
          "execution_count": 9
        }
      ]
    },
    {
      "cell_type": "code",
      "source": [
        "sns.boxplot(data['loan_amnt'])"
      ],
      "metadata": {
        "colab": {
          "base_uri": "https://localhost:8080/",
          "height": 297
        },
        "id": "HXG_qhbQN6z3",
        "outputId": "c7be04fb-8f65-4008-9d6c-8b0f181b6e8d"
      },
      "execution_count": 10,
      "outputs": [
        {
          "output_type": "execute_result",
          "data": {
            "text/plain": [
              "<matplotlib.axes._subplots.AxesSubplot at 0x7f897e85e100>"
            ]
          },
          "metadata": {},
          "execution_count": 10
        },
        {
          "output_type": "display_data",
          "data": {
            "text/plain": [
              "<Figure size 432x288 with 1 Axes>"
            ],
            "image/png": "[encoded data removed]"
          },
          "metadata": {
            "needs_background": "light"
          }
        }
      ]
    },
    {
      "cell_type": "code",
      "source": [
        "# we have some outliers\n",
        "data['loan_amnt'].plot(kind='density');"
      ],
      "metadata": {
        "colab": {
          "base_uri": "https://localhost:8080/",
          "height": 276
        },
        "id": "2sIq5nl5OGew",
        "outputId": "bd1839d4-89d2-4bff-92cd-76fa6af31fe8"
      },
      "execution_count": 11,
      "outputs": [
        {
          "output_type": "display_data",
          "data": {
            "text/plain": [
              "<Figure size 432x288 with 1 Axes>"
            ],
            "image/png": "[encoded data removed]"
          },
          "metadata": {
            "needs_background": "light"
          }
        }
      ]
    },
    {
      "cell_type": "code",
      "source": [
        "plt.hist(data['loan_amnt'], bins=16) # data is skewed to the right, may be this column will need normalization"
      ],
      "metadata": {
        "colab": {
          "base_uri": "https://localhost:8080/",
          "height": 405
        },
        "id": "uBgTf7BGO4SY",
        "outputId": "f8b90406-d658-4dfa-af38-3745df6c8643"
      },
      "execution_count": 12,
      "outputs": [
        {
          "output_type": "execute_result",
          "data": {
            "text/plain": [
              "(array([1.3630e+04, 4.0597e+04, 4.4211e+04, 6.7675e+04, 4.3817e+04,\n",
              "        4.2762e+04, 2.4116e+04, 3.9226e+04, 1.4231e+04, 2.4346e+04,\n",
              "        5.5190e+03, 1.5436e+04, 3.4080e+03, 1.6795e+04, 6.5000e+01,\n",
              "        1.9600e+02]),\n",
              " array([  500.  ,  2968.75,  5437.5 ,  7906.25, 10375.  , 12843.75,\n",
              "        15312.5 , 17781.25, 20250.  , 22718.75, 25187.5 , 27656.25,\n",
              "        30125.  , 32593.75, 35062.5 , 37531.25, 40000.  ]),\n",
              " <a list of 16 Patch objects>)"
            ]
          },
          "metadata": {},
          "execution_count": 12
        },
        {
          "output_type": "display_data",
          "data": {
            "text/plain": [
              "<Figure size 432x288 with 1 Axes>"
            ],
            "image/png": "[encoded data removed]"
          },
          "metadata": {
            "needs_background": "light"
          }
        }
      ]
    },
    {
      "cell_type": "code",
      "source": [
        "sns.boxplot(x='loan_status', y='loan_amnt', data=data)"
      ],
      "metadata": {
        "colab": {
          "base_uri": "https://localhost:8080/",
          "height": 297
        },
        "id": "VHnxMFuoJsXx",
        "outputId": "1bae34bd-0980-4081-b2e8-1eddb4340af2"
      },
      "execution_count": 13,
      "outputs": [
        {
          "output_type": "execute_result",
          "data": {
            "text/plain": [
              "<matplotlib.axes._subplots.AxesSubplot at 0x7f8983e31a90>"
            ]
          },
          "metadata": {},
          "execution_count": 13
        },
        {
          "output_type": "display_data",
          "data": {
            "text/plain": [
              "<Figure size 432x288 with 1 Axes>"
            ],
            "image/png": "[encoded data removed]"
          },
          "metadata": {
            "needs_background": "light"
          }
        }
      ]
    },
    {
      "cell_type": "code",
      "source": [
        "data.groupby('loan_status')['loan_amnt'].describe()"
      ],
      "metadata": {
        "colab": {
          "base_uri": "https://localhost:8080/",
          "height": 143
        },
        "id": "2TyqMGmHKG1s",
        "outputId": "c2b4a6bc-eca9-43d9-8310-ef592e33f17c"
      },
      "execution_count": 14,
      "outputs": [
        {
          "output_type": "execute_result",
          "data": {
            "text/plain": [
              "                count          mean          std     min     25%      50%  \\\n",
              "loan_status                                                                 \n",
              "Charged Off   77673.0  15126.300967  8505.090557  1000.0  8525.0  14000.0   \n",
              "Fully Paid   318357.0  13866.878771  8302.319699   500.0  7500.0  12000.0   \n",
              "\n",
              "                 75%      max  \n",
              "loan_status                    \n",
              "Charged Off  20000.0  40000.0  \n",
              "Fully Paid   19225.0  40000.0  "
            ],
            "text/html": [
              "\n",
              "  <div id=\"df-1c8fe9fe-dc0b-48b2-a8cd-8e9efb447d9f\">\n",
              "    <div class=\"colab-df-container\">\n",
              "      <div>\n",
              "<style scoped>\n",
              "    .dataframe tbody tr th:only-of-type {\n",
              "        vertical-align: middle;\n",
              "    }\n",
              "\n",
              "    .dataframe tbody tr th {\n",
              "        vertical-align: top;\n",
              "    }\n",
              "\n",
              "    .dataframe thead th {\n",
              "        text-align: right;\n",
              "    }\n",
              "</style>\n",
              "<table border=\"1\" class=\"dataframe\">\n",
              "  <thead>\n",
              "    <tr style=\"text-align: right;\">\n",
              "      <th></th>\n",
              "      <th>count</th>\n",
              "      <th>mean</th>\n",
              "      <th>std</th>\n",
              "      <th>min</th>\n",
              "      <th>25%</th>\n",
              "      <th>50%</th>\n",
              "      <th>75%</th>\n",
              "      <th>max</th>\n",
              "    </tr>\n",
              "    <tr>\n",
              "      <th>loan_status</th>\n",
              "      <th></th>\n",
              "      <th></th>\n",
              "      <th></th>\n",
              "      <th></th>\n",
              "      <th></th>\n",
              "      <th></th>\n",
              "      <th></th>\n",
              "      <th></th>\n",
              "    </tr>\n",
              "  </thead>\n",
              "  <tbody>\n",
              "    <tr>\n",
              "      <th>Charged Off</th>\n",
              "      <td>77673.0</td>\n",
              "      <td>15126.300967</td>\n",
              "      <td>8505.090557</td>\n",
              "      <td>1000.0</td>\n",
              "      <td>8525.0</td>\n",
              "      <td>14000.0</td>\n",
              "      <td>20000.0</td>\n",
              "      <td>40000.0</td>\n",
              "    </tr>\n",
              "    <tr>\n",
              "      <th>Fully Paid</th>\n",
              "      <td>318357.0</td>\n",
              "      <td>13866.878771</td>\n",
              "      <td>8302.319699</td>\n",
              "      <td>500.0</td>\n",
              "      <td>7500.0</td>\n",
              "      <td>12000.0</td>\n",
              "      <td>19225.0</td>\n",
              "      <td>40000.0</td>\n",
              "    </tr>\n",
              "  </tbody>\n",
              "</table>\n",
              "</div>\n",
              "      <button class=\"colab-df-convert\" onclick=\"convertToInteractive('df-1c8fe9fe-dc0b-48b2-a8cd-8e9efb447d9f')\"\n",
              "              title=\"Convert this dataframe to an interactive table.\"\n",
              "              style=\"display:none;\">\n",
              "        \n",
              "  <svg xmlns=\"http://www.w3.org/2000/svg\" height=\"24px\"viewBox=\"0 0 24 24\"\n",
              "       width=\"24px\">\n",
              "    <path d=\"M0 0h24v24H0V0z\" fill=\"none\"/>\n",
              "    <path d=\"M18.56 5.44l.94 2.06.94-2.06 2.06-.94-2.06-.94-.94-2.06-.94 2.06-2.06.94zm-11 1L8.5 8.5l.94-2.06 2.06-.94-2.06-.94L8.5 2.5l-.94 2.06-2.06.94zm10 10l.94 2.06.94-2.06 2.06-.94-2.06-.94-.94-2.06-.94 2.06-2.06.94z\"/><path d=\"M17.41 7.96l-1.37-1.37c-.4-.4-.92-.59-1.43-.59-.52 0-1.04.2-1.43.59L10.3 9.45l-7.72 7.72c-.78.78-.78 2.05 0 2.83L4 21.41c.39.39.9.59 1.41.59.51 0 1.02-.2 1.41-.59l7.78-7.78 2.81-2.81c.8-.78.8-2.07 0-2.86zM5.41 20L4 18.59l7.72-7.72 1.47 1.35L5.41 20z\"/>\n",
              "  </svg>\n",
              "      </button>\n",
              "      \n",
              "  <style>\n",
              "    .colab-df-container {\n",
              "      display:flex;\n",
              "      flex-wrap:wrap;\n",
              "      gap: 12px;\n",
              "    }\n",
              "\n",
              "    .colab-df-convert {\n",
              "      background-color: #E8F0FE;\n",
              "      border: none;\n",
              "      border-radius: 50%;\n",
              "      cursor: pointer;\n",
              "      display: none;\n",
              "      fill: #1967D2;\n",
              "      height: 32px;\n",
              "      padding: 0 0 0 0;\n",
              "      width: 32px;\n",
              "    }\n",
              "\n",
              "    .colab-df-convert:hover {\n",
              "      background-color: #E2EBFA;\n",
              "      box-shadow: 0px 1px 2px rgba(60, 64, 67, 0.3), 0px 1px 3px 1px rgba(60, 64, 67, 0.15);\n",
              "      fill: #174EA6;\n",
              "    }\n",
              "\n",
              "    [theme=dark] .colab-df-convert {\n",
              "      background-color: #3B4455;\n",
              "      fill: #D2E3FC;\n",
              "    }\n",
              "\n",
              "    [theme=dark] .colab-df-convert:hover {\n",
              "      background-color: #434B5C;\n",
              "      box-shadow: 0px 1px 3px 1px rgba(0, 0, 0, 0.15);\n",
              "      filter: drop-shadow(0px 1px 2px rgba(0, 0, 0, 0.3));\n",
              "      fill: #FFFFFF;\n",
              "    }\n",
              "  </style>\n",
              "\n",
              "      <script>\n",
              "        const buttonEl =\n",
              "          document.querySelector('#df-1c8fe9fe-dc0b-48b2-a8cd-8e9efb447d9f button.colab-df-convert');\n",
              "        buttonEl.style.display =\n",
              "          google.colab.kernel.accessAllowed ? 'block' : 'none';\n",
              "\n",
              "        async function convertToInteractive(key) {\n",
              "          const element = document.querySelector('#df-1c8fe9fe-dc0b-48b2-a8cd-8e9efb447d9f');\n",
              "          const dataTable =\n",
              "            await google.colab.kernel.invokeFunction('convertToInteractive',\n",
              "                                                     [key], {});\n",
              "          if (!dataTable) return;\n",
              "\n",
              "          const docLinkHtml = 'Like what you see? Visit the ' +\n",
              "            '<a target=\"_blank\" href=https://colab.research.google.com/notebooks/data_table.ipynb>data table notebook</a>'\n",
              "            + ' to learn more about interactive tables.';\n",
              "          element.innerHTML = '';\n",
              "          dataTable['output_type'] = 'display_data';\n",
              "          await google.colab.output.renderOutput(dataTable, element);\n",
              "          const docLink = document.createElement('div');\n",
              "          docLink.innerHTML = docLinkHtml;\n",
              "          element.appendChild(docLink);\n",
              "        }\n",
              "      </script>\n",
              "    </div>\n",
              "  </div>\n",
              "  "
            ]
          },
          "metadata": {},
          "execution_count": 14
        }
      ]
    },
    {
      "cell_type": "code",
      "source": [
        "# test the normality, p-value close to 0, data doesn't come from normal distribution\n",
        "\n",
        "\n",
        "\n",
        "shapiro(data['loan_amnt'])"
      ],
      "metadata": {
        "colab": {
          "base_uri": "https://localhost:8080/"
        },
        "id": "FTL1gAtSSrTC",
        "outputId": "5ed35784-2105-43c6-bf77-984cb7828b09"
      },
      "execution_count": 15,
      "outputs": [
        {
          "output_type": "execute_result",
          "data": {
            "text/plain": [
              "ShapiroResult(statistic=0.9391361474990845, pvalue=0.0)"
            ]
          },
          "metadata": {},
          "execution_count": 15
        }
      ]
    },
    {
      "cell_type": "markdown",
      "source": [
        "#### term column"
      ],
      "metadata": {
        "id": "H7kAdA-fTpMV"
      }
    },
    {
      "cell_type": "code",
      "source": [
        "data['term'].value_counts()"
      ],
      "metadata": {
        "colab": {
          "base_uri": "https://localhost:8080/"
        },
        "id": "WARNiGaDcgjZ",
        "outputId": "c3a70625-15b7-48b5-ad5b-145b5b932037"
      },
      "execution_count": 16,
      "outputs": [
        {
          "output_type": "execute_result",
          "data": {
            "text/plain": [
              " 36 months    302005\n",
              " 60 months     94025\n",
              "Name: term, dtype: int64"
            ]
          },
          "metadata": {},
          "execution_count": 16
        }
      ]
    },
    {
      "cell_type": "code",
      "source": [
        "# we can apply the column transformation to this column, since 36 and 60 are numerical values and can have effects on the target\n",
        "\n",
        "def get_months(value):\n",
        "  return int(value[:3])"
      ],
      "metadata": {
        "id": "d1r6Djsicjja"
      },
      "execution_count": 17,
      "outputs": []
    },
    {
      "cell_type": "code",
      "source": [
        "data['term'] = data['term'].map(get_months)"
      ],
      "metadata": {
        "id": "Jyd7zTtcc_1p"
      },
      "execution_count": 18,
      "outputs": []
    },
    {
      "cell_type": "code",
      "source": [
        "data['term'].value_counts()"
      ],
      "metadata": {
        "colab": {
          "base_uri": "https://localhost:8080/"
        },
        "id": "yp-vFyg-eIVk",
        "outputId": "2a999ebc-6ffe-4357-ca39-772aefaedbb4"
      },
      "execution_count": 19,
      "outputs": [
        {
          "output_type": "execute_result",
          "data": {
            "text/plain": [
              "36    302005\n",
              "60     94025\n",
              "Name: term, dtype: int64"
            ]
          },
          "metadata": {},
          "execution_count": 19
        }
      ]
    },
    {
      "cell_type": "code",
      "source": [
        "sns.countplot(data['term'])"
      ],
      "metadata": {
        "colab": {
          "base_uri": "https://localhost:8080/",
          "height": 296
        },
        "id": "Aiz8qr7JeLfM",
        "outputId": "d0f42db5-49c2-4ea7-cc58-5fdb083af595"
      },
      "execution_count": 20,
      "outputs": [
        {
          "output_type": "execute_result",
          "data": {
            "text/plain": [
              "<matplotlib.axes._subplots.AxesSubplot at 0x7f897e861310>"
            ]
          },
          "metadata": {},
          "execution_count": 20
        },
        {
          "output_type": "display_data",
          "data": {
            "text/plain": [
              "<Figure size 432x288 with 1 Axes>"
            ],
            "image/png": "[encoded data removed]"
          },
          "metadata": {
            "needs_background": "light"
          }
        }
      ]
    },
    {
      "cell_type": "markdown",
      "source": [
        "#### int_rate column"
      ],
      "metadata": {
        "id": "7gbsowKefJXY"
      }
    },
    {
      "cell_type": "code",
      "source": [
        "get_col_description('int_rate')"
      ],
      "metadata": {
        "colab": {
          "base_uri": "https://localhost:8080/"
        },
        "id": "dN-3q3k7h2hE",
        "outputId": "c429f2c9-262f-4577-9d57-993741e9df39"
      },
      "execution_count": 21,
      "outputs": [
        {
          "output_type": "stream",
          "name": "stdout",
          "text": [
            "\n",
            "Column name: int_rate\n",
            "\n",
            "Data type of the column: float64\n",
            "\n",
            "Column information: Interest Rate on the loan\n",
            "\n"
          ]
        }
      ]
    },
    {
      "cell_type": "code",
      "source": [
        "data['int_rate'].describe()"
      ],
      "metadata": {
        "colab": {
          "base_uri": "https://localhost:8080/"
        },
        "id": "bVa3u9qLh5VD",
        "outputId": "b578522a-22e6-40ac-fec2-9940bce46e8d"
      },
      "execution_count": 22,
      "outputs": [
        {
          "output_type": "execute_result",
          "data": {
            "text/plain": [
              "count    396030.000000\n",
              "mean         13.639400\n",
              "std           4.472157\n",
              "min           5.320000\n",
              "25%          10.490000\n",
              "50%          13.330000\n",
              "75%          16.490000\n",
              "max          30.990000\n",
              "Name: int_rate, dtype: float64"
            ]
          },
          "metadata": {},
          "execution_count": 22
        }
      ]
    },
    {
      "cell_type": "code",
      "source": [
        "# looks to have a few outliers since mean and median are near, we'll see\n",
        "\n",
        "plt.hist(data['int_rate'], bins=18);"
      ],
      "metadata": {
        "colab": {
          "base_uri": "https://localhost:8080/",
          "height": 265
        },
        "id": "shnAPCyOjP9w",
        "outputId": "85f5b31a-b6d9-446a-c772-091db96cbbcc"
      },
      "execution_count": 23,
      "outputs": [
        {
          "output_type": "display_data",
          "data": {
            "text/plain": [
              "<Figure size 432x288 with 1 Axes>"
            ],
            "image/png": "[encoded data removed]"
          },
          "metadata": {
            "needs_background": "light"
          }
        }
      ]
    },
    {
      "cell_type": "code",
      "source": [
        "data['int_rate'].plot(kind='kde')"
      ],
      "metadata": {
        "colab": {
          "base_uri": "https://localhost:8080/",
          "height": 282
        },
        "id": "AJlVEnM1jikx",
        "outputId": "cb89f2fb-f468-4ce2-e094-c2415ae64cf1"
      },
      "execution_count": 24,
      "outputs": [
        {
          "output_type": "execute_result",
          "data": {
            "text/plain": [
              "<matplotlib.axes._subplots.AxesSubplot at 0x7f8983d0f460>"
            ]
          },
          "metadata": {},
          "execution_count": 24
        },
        {
          "output_type": "display_data",
          "data": {
            "text/plain": [
              "<Figure size 432x288 with 1 Axes>"
            ],
            "image/png": "[encoded data removed]"
          },
          "metadata": {
            "needs_background": "light"
          }
        }
      ]
    },
    {
      "cell_type": "code",
      "source": [
        "sns.boxplot(data['int_rate']);"
      ],
      "metadata": {
        "colab": {
          "base_uri": "https://localhost:8080/",
          "height": 280
        },
        "id": "GZIx1smEjq5c",
        "outputId": "dbf66436-758e-4e42-817b-71be6ed06251"
      },
      "execution_count": 25,
      "outputs": [
        {
          "output_type": "display_data",
          "data": {
            "text/plain": [
              "<Figure size 432x288 with 1 Axes>"
            ],
            "image/png": "[encoded data removed]"
          },
          "metadata": {
            "needs_background": "light"
          }
        }
      ]
    },
    {
      "cell_type": "code",
      "source": [
        "data['int_rate'].value_counts(bins= [i for i in range(0, 40, 5)], sort=False)"
      ],
      "metadata": {
        "colab": {
          "base_uri": "https://localhost:8080/"
        },
        "id": "CGhe4N5LkLUr",
        "outputId": "d0badc64-5150-4de2-bf53-f791b075a1e4"
      },
      "execution_count": 26,
      "outputs": [
        {
          "output_type": "execute_result",
          "data": {
            "text/plain": [
              "(-0.001, 5.0]         0\n",
              "(5.0, 10.0]       91821\n",
              "(10.0, 15.0]     166173\n",
              "(15.0, 20.0]     105578\n",
              "(20.0, 25.0]      28432\n",
              "(25.0, 30.0]       3988\n",
              "(30.0, 35.0]         38\n",
              "Name: int_rate, dtype: int64"
            ]
          },
          "metadata": {},
          "execution_count": 26
        }
      ]
    },
    {
      "cell_type": "code",
      "source": [
        "shapiro(data['int_rate']) # data doesn't come from a normal distribution"
      ],
      "metadata": {
        "colab": {
          "base_uri": "https://localhost:8080/"
        },
        "id": "cSlRajVwlvGb",
        "outputId": "13149812-b75c-409d-e85a-f0baab866b0a"
      },
      "execution_count": 27,
      "outputs": [
        {
          "output_type": "execute_result",
          "data": {
            "text/plain": [
              "ShapiroResult(statistic=0.9824760556221008, pvalue=0.0)"
            ]
          },
          "metadata": {},
          "execution_count": 27
        }
      ]
    },
    {
      "cell_type": "markdown",
      "source": [
        "#### installment column"
      ],
      "metadata": {
        "id": "J9lYV2BQn54D"
      }
    },
    {
      "cell_type": "code",
      "source": [
        "get_col_description('installment')"
      ],
      "metadata": {
        "colab": {
          "base_uri": "https://localhost:8080/"
        },
        "id": "WCJ5JDAXoPmd",
        "outputId": "5e95cdbb-17b7-48c1-b5e1-29e79464d593"
      },
      "execution_count": 28,
      "outputs": [
        {
          "output_type": "stream",
          "name": "stdout",
          "text": [
            "\n",
            "Column name: installment\n",
            "\n",
            "Data type of the column: float64\n",
            "\n",
            "Column information: The monthly payment owed by the borrower if the loan originates.\n",
            "\n"
          ]
        }
      ]
    },
    {
      "cell_type": "code",
      "source": [
        "data['installment'].describe()"
      ],
      "metadata": {
        "colab": {
          "base_uri": "https://localhost:8080/"
        },
        "id": "S_udY8JPoYe6",
        "outputId": "db4a8ca0-ec86-43de-ec2f-cc87d7150459"
      },
      "execution_count": 29,
      "outputs": [
        {
          "output_type": "execute_result",
          "data": {
            "text/plain": [
              "count    396030.000000\n",
              "mean        431.849698\n",
              "std         250.727790\n",
              "min          16.080000\n",
              "25%         250.330000\n",
              "50%         375.430000\n",
              "75%         567.300000\n",
              "max        1533.810000\n",
              "Name: installment, dtype: float64"
            ]
          },
          "metadata": {},
          "execution_count": 29
        }
      ]
    },
    {
      "cell_type": "code",
      "source": [
        "plt.hist(data['installment']);"
      ],
      "metadata": {
        "colab": {
          "base_uri": "https://localhost:8080/",
          "height": 265
        },
        "id": "iUn0CRAspZoe",
        "outputId": "4443dea4-c759-4a1f-adeb-98e9d1385919"
      },
      "execution_count": 30,
      "outputs": [
        {
          "output_type": "display_data",
          "data": {
            "text/plain": [
              "<Figure size 432x288 with 1 Axes>"
            ],
            "image/png": "[encoded data removed]"
          },
          "metadata": {
            "needs_background": "light"
          }
        }
      ]
    },
    {
      "cell_type": "code",
      "source": [
        "sns.boxplot(data['installment']); # we have some outliers, and we can say roughly that data doesn't come from a normal distribution"
      ],
      "metadata": {
        "colab": {
          "base_uri": "https://localhost:8080/",
          "height": 279
        },
        "id": "sL2aVVMmpkOm",
        "outputId": "33352cef-772b-43b8-8df4-b650317ae9d6"
      },
      "execution_count": 31,
      "outputs": [
        {
          "output_type": "display_data",
          "data": {
            "text/plain": [
              "<Figure size 432x288 with 1 Axes>"
            ],
            "image/png": "[encoded data removed]"
          },
          "metadata": {
            "needs_background": "light"
          }
        }
      ]
    },
    {
      "cell_type": "code",
      "source": [
        "shapiro(data['installment'])"
      ],
      "metadata": {
        "colab": {
          "base_uri": "https://localhost:8080/"
        },
        "id": "qUCZtcx5poQc",
        "outputId": "1aaec64d-f182-48b8-ff73-ec7c29222493"
      },
      "execution_count": 32,
      "outputs": [
        {
          "output_type": "execute_result",
          "data": {
            "text/plain": [
              "ShapiroResult(statistic=0.9357078671455383, pvalue=0.0)"
            ]
          },
          "metadata": {},
          "execution_count": 32
        }
      ]
    },
    {
      "cell_type": "markdown",
      "source": [
        "#### grade column"
      ],
      "metadata": {
        "id": "P4qg-Hr7qpTp"
      }
    },
    {
      "cell_type": "code",
      "source": [
        "get_col_description('grade')"
      ],
      "metadata": {
        "colab": {
          "base_uri": "https://localhost:8080/"
        },
        "id": "wCo106enqtmf",
        "outputId": "f7e88905-d2e5-44e4-97b9-19d47f7110c1"
      },
      "execution_count": 33,
      "outputs": [
        {
          "output_type": "stream",
          "name": "stdout",
          "text": [
            "\n",
            "Column name: grade\n",
            "\n",
            "Data type of the column: object\n",
            "\n",
            "Column information: LC assigned loan grade\n",
            "\n"
          ]
        }
      ]
    },
    {
      "cell_type": "markdown",
      "source": [
        "Loan grading is part of a lending institution's loan review or credit risk system and is usually an aspect of the credit underwriting and approval processes."
      ],
      "metadata": {
        "id": "WAGfFHXVq3eQ"
      }
    },
    {
      "cell_type": "code",
      "source": [
        "grade_values = data['grade'].value_counts().sort_index()"
      ],
      "metadata": {
        "id": "8eZgSWSPxoMX"
      },
      "execution_count": 34,
      "outputs": []
    },
    {
      "cell_type": "code",
      "source": [
        "sns.barplot(grade_values.index, grade_values.values)"
      ],
      "metadata": {
        "colab": {
          "base_uri": "https://localhost:8080/",
          "height": 283
        },
        "id": "-op-fmspyFtQ",
        "outputId": "763f43d8-6aa6-4c11-e78e-0f9c5eced1d6"
      },
      "execution_count": 35,
      "outputs": [
        {
          "output_type": "execute_result",
          "data": {
            "text/plain": [
              "<matplotlib.axes._subplots.AxesSubplot at 0x7f8983b319d0>"
            ]
          },
          "metadata": {},
          "execution_count": 35
        },
        {
          "output_type": "display_data",
          "data": {
            "text/plain": [
              "<Figure size 432x288 with 1 Axes>"
            ],
            "image/png": "[encoded data removed]"
          },
          "metadata": {
            "needs_background": "light"
          }
        }
      ]
    },
    {
      "cell_type": "code",
      "source": [
        "sns.countplot(x='grade', data=data, hue='loan_status', order=[chr(i) for i in range(65, 72)])"
      ],
      "metadata": {
        "colab": {
          "base_uri": "https://localhost:8080/",
          "height": 296
        },
        "id": "YirltCZpKdnh",
        "outputId": "16f6ee47-f5f5-4bb8-b96f-e7ef90727030"
      },
      "execution_count": 36,
      "outputs": [
        {
          "output_type": "execute_result",
          "data": {
            "text/plain": [
              "<matplotlib.axes._subplots.AxesSubplot at 0x7f8983aad370>"
            ]
          },
          "metadata": {},
          "execution_count": 36
        },
        {
          "output_type": "display_data",
          "data": {
            "text/plain": [
              "<Figure size 432x288 with 1 Axes>"
            ],
            "image/png": "[encoded data removed]"
          },
          "metadata": {
            "needs_background": "light"
          }
        }
      ]
    },
    {
      "cell_type": "markdown",
      "source": [
        "#### sub_grade column"
      ],
      "metadata": {
        "id": "XBov_05yydp8"
      }
    },
    {
      "cell_type": "code",
      "source": [
        "get_col_description('sub_grade')"
      ],
      "metadata": {
        "colab": {
          "base_uri": "https://localhost:8080/"
        },
        "id": "H26eP5S8FxyV",
        "outputId": "13f66d0f-f7fa-4cfa-ae05-c2305441ff41"
      },
      "execution_count": 37,
      "outputs": [
        {
          "output_type": "stream",
          "name": "stdout",
          "text": [
            "\n",
            "Column name: sub_grade\n",
            "\n",
            "Data type of the column: object\n",
            "\n",
            "Column information: LC assigned loan subgrade\n",
            "\n"
          ]
        }
      ]
    },
    {
      "cell_type": "code",
      "source": [
        "plt.figure(figsize=(12, 5))\n",
        "sub_grade_values = data['sub_grade'].value_counts().sort_index()\n",
        "\n",
        "sns.barplot(sub_grade_values.index, sub_grade_values.values, palette='coolwarm')"
      ],
      "metadata": {
        "colab": {
          "base_uri": "https://localhost:8080/",
          "height": 337
        },
        "id": "9CGyTvGWF5se",
        "outputId": "26c632a4-0812-4200-ccf1-d7c4b86f90bd"
      },
      "execution_count": 38,
      "outputs": [
        {
          "output_type": "execute_result",
          "data": {
            "text/plain": [
              "<matplotlib.axes._subplots.AxesSubplot at 0x7f8983aebf40>"
            ]
          },
          "metadata": {},
          "execution_count": 38
        },
        {
          "output_type": "display_data",
          "data": {
            "text/plain": [
              "<Figure size 864x360 with 1 Axes>"
            ],
            "image/png": "[encoded data removed]"
          },
          "metadata": {
            "needs_background": "light"
          }
        }
      ]
    },
    {
      "cell_type": "code",
      "source": [
        "plt.figure(figsize=(12, 4))\n",
        "\n",
        "subgrade_order = sorted(data['sub_grade'].unique())\n",
        "\n",
        "sns.countplot(\n",
        "    x='sub_grade', data=data, order=subgrade_order,\n",
        "    palette=random.choice(palettes), hue='loan_status'\n",
        ")"
      ],
      "metadata": {
        "colab": {
          "base_uri": "https://localhost:8080/",
          "height": 297
        },
        "id": "ekQ4KkxILKxE",
        "outputId": "0f98f094-4de5-4795-b620-ef9937255f8e"
      },
      "execution_count": 39,
      "outputs": [
        {
          "output_type": "execute_result",
          "data": {
            "text/plain": [
              "<matplotlib.axes._subplots.AxesSubplot at 0x7f8983c081c0>"
            ]
          },
          "metadata": {},
          "execution_count": 39
        },
        {
          "output_type": "display_data",
          "data": {
            "text/plain": [
              "<Figure size 864x288 with 1 Axes>"
            ],
            "image/png": "[encoded data removed]"
          },
          "metadata": {
            "needs_background": "light"
          }
        }
      ]
    },
    {
      "cell_type": "code",
      "source": [
        "f_and_g = data[(data['grade']=='G') | (data['grade']=='F')]\n",
        "\n",
        "\n",
        "\n",
        "plt.figure(figsize=(12, 4))\n",
        "\n",
        "subgrade_order = sorted(f_and_g['sub_grade'].unique())\n",
        "\n",
        "sns.countplot(\n",
        "    x='sub_grade', data=f_and_g, order=subgrade_order,\n",
        "    palette=random.choice(palettes), hue='loan_status'\n",
        ")"
      ],
      "metadata": {
        "colab": {
          "base_uri": "https://localhost:8080/",
          "height": 297
        },
        "id": "dsaSuIMVNXjV",
        "outputId": "b1b457af-f6d8-4278-c0b5-b6999d3db052"
      },
      "execution_count": 40,
      "outputs": [
        {
          "output_type": "execute_result",
          "data": {
            "text/plain": [
              "<matplotlib.axes._subplots.AxesSubplot at 0x7f8983c75e80>"
            ]
          },
          "metadata": {},
          "execution_count": 40
        },
        {
          "output_type": "display_data",
          "data": {
            "text/plain": [
              "<Figure size 864x288 with 1 Axes>"
            ],
            "image/png": "[encoded data removed]"
          },
          "metadata": {
            "needs_background": "light"
          }
        }
      ]
    },
    {
      "cell_type": "code",
      "source": [
        "sub_grade_values"
      ],
      "metadata": {
        "colab": {
          "base_uri": "https://localhost:8080/"
        },
        "id": "7WciOqvUGNHU",
        "outputId": "55209100-f3db-4a5c-e40d-2966eeb25590"
      },
      "execution_count": 41,
      "outputs": [
        {
          "output_type": "execute_result",
          "data": {
            "text/plain": [
              "A1     9729\n",
              "A2     9567\n",
              "A3    10576\n",
              "A4    15789\n",
              "A5    18526\n",
              "B1    19182\n",
              "B2    22495\n",
              "B3    26655\n",
              "B4    25601\n",
              "B5    22085\n",
              "C1    23662\n",
              "C2    22580\n",
              "C3    21221\n",
              "C4    20280\n",
              "C5    18244\n",
              "D1    15993\n",
              "D2    13951\n",
              "D3    12223\n",
              "D4    11657\n",
              "D5     9700\n",
              "E1     7917\n",
              "E2     7431\n",
              "E3     6207\n",
              "E4     5361\n",
              "E5     4572\n",
              "F1     3536\n",
              "F2     2766\n",
              "F3     2286\n",
              "F4     1787\n",
              "F5     1397\n",
              "G1     1058\n",
              "G2      754\n",
              "G3      552\n",
              "G4      374\n",
              "G5      316\n",
              "Name: sub_grade, dtype: int64"
            ]
          },
          "metadata": {},
          "execution_count": 41
        }
      ]
    },
    {
      "cell_type": "markdown",
      "source": [
        "#### emp_title column"
      ],
      "metadata": {
        "id": "7_lJnGAWG0gb"
      }
    },
    {
      "cell_type": "code",
      "source": [
        "get_col_description('emp_title')"
      ],
      "metadata": {
        "colab": {
          "base_uri": "https://localhost:8080/"
        },
        "id": "WWtIonO7Hk5B",
        "outputId": "fcf4f015-32a4-4fb4-e335-0a9ba522e545"
      },
      "execution_count": 42,
      "outputs": [
        {
          "output_type": "stream",
          "name": "stdout",
          "text": [
            "\n",
            "Column name: emp_title\n",
            "\n",
            "Data type of the column: object\n",
            "\n",
            "Column information: The job title supplied by the Borrower when applying for the loan.*\n",
            "\n"
          ]
        }
      ]
    },
    {
      "cell_type": "code",
      "source": [
        "data['emp_title'].nunique()"
      ],
      "metadata": {
        "colab": {
          "base_uri": "https://localhost:8080/"
        },
        "id": "eo_Oq4hZxNaN",
        "outputId": "3c12f9bd-9660-4e3d-c395-66a887f2ee7f"
      },
      "execution_count": 43,
      "outputs": [
        {
          "output_type": "execute_result",
          "data": {
            "text/plain": [
              "173105"
            ]
          },
          "metadata": {},
          "execution_count": 43
        }
      ]
    },
    {
      "cell_type": "code",
      "source": [
        "# this column has ~17k unique values, and when looking at values, they are very noisy and less informative. I'll simply drop this column\n",
        "\n",
        "data.drop('emp_title', axis='columns', inplace=True)"
      ],
      "metadata": {
        "id": "O9gMJWqd85ZA"
      },
      "execution_count": 44,
      "outputs": []
    },
    {
      "cell_type": "code",
      "source": [
        "data.shape"
      ],
      "metadata": {
        "colab": {
          "base_uri": "https://localhost:8080/"
        },
        "id": "PfmGMqpO9MJq",
        "outputId": "d81341e5-c8be-4ada-d846-7bd59487036a"
      },
      "execution_count": 45,
      "outputs": [
        {
          "output_type": "execute_result",
          "data": {
            "text/plain": [
              "(396030, 26)"
            ]
          },
          "metadata": {},
          "execution_count": 45
        }
      ]
    },
    {
      "cell_type": "markdown",
      "source": [
        "#### emp_length column"
      ],
      "metadata": {
        "id": "TU5POGwq9Np_"
      }
    },
    {
      "cell_type": "code",
      "source": [
        "get_col_description('emp_length')"
      ],
      "metadata": {
        "colab": {
          "base_uri": "https://localhost:8080/"
        },
        "id": "h_ywzDWP9P1H",
        "outputId": "65c4cafb-468e-40f2-fb87-1ecb99f0da3e"
      },
      "execution_count": 46,
      "outputs": [
        {
          "output_type": "stream",
          "name": "stdout",
          "text": [
            "\n",
            "Column name: emp_length\n",
            "\n",
            "Data type of the column: object\n",
            "\n",
            "Column information: Employment length in years. Possible values are between 0 and 10 where 0 means less than one year and 10 means ten or more\n",
            "\n",
            "                    years. \n",
            "\n"
          ]
        }
      ]
    },
    {
      "cell_type": "code",
      "source": [
        "n_null_values = data['emp_length'].isna().sum()\n",
        "\n",
        "print('There are {} null values in the \"emp_length\" column.'.format(n_null_values))"
      ],
      "metadata": {
        "colab": {
          "base_uri": "https://localhost:8080/"
        },
        "id": "NrtuSFyC9bk7",
        "outputId": "09296c7d-609b-4b65-a45e-4e5123c1e8fb"
      },
      "execution_count": 47,
      "outputs": [
        {
          "output_type": "stream",
          "name": "stdout",
          "text": [
            "There are 18301 null values in the \"emp_length\" column.\n"
          ]
        }
      ]
    },
    {
      "cell_type": "code",
      "source": [
        "n_unique_values = data['emp_length'].nunique()\n",
        "\n",
        "print('There are {} unique values in the \"emp_length\" column.'.format(n_unique_values))"
      ],
      "metadata": {
        "colab": {
          "base_uri": "https://localhost:8080/"
        },
        "id": "jM2spezL9zBw",
        "outputId": "0b88c3e9-6adb-4b56-a2e7-7f1d3424faaa"
      },
      "execution_count": 48,
      "outputs": [
        {
          "output_type": "stream",
          "name": "stdout",
          "text": [
            "There are 11 unique values in the \"emp_length\" column.\n"
          ]
        }
      ]
    },
    {
      "cell_type": "code",
      "source": [
        "data['emp_length'].value_counts()"
      ],
      "metadata": {
        "colab": {
          "base_uri": "https://localhost:8080/"
        },
        "id": "_zmYScGv-ITl",
        "outputId": "4ee33cf9-6b38-4de5-b0aa-da10dffd07ac"
      },
      "execution_count": 49,
      "outputs": [
        {
          "output_type": "execute_result",
          "data": {
            "text/plain": [
              "10+ years    126041\n",
              "2 years       35827\n",
              "< 1 year      31725\n",
              "3 years       31665\n",
              "5 years       26495\n",
              "1 year        25882\n",
              "4 years       23952\n",
              "6 years       20841\n",
              "7 years       20819\n",
              "8 years       19168\n",
              "9 years       15314\n",
              "Name: emp_length, dtype: int64"
            ]
          },
          "metadata": {},
          "execution_count": 49
        }
      ]
    },
    {
      "cell_type": "code",
      "source": [
        "pd.DataFrame(data['emp_length']).head(20).loc[0][0].split()"
      ],
      "metadata": {
        "colab": {
          "base_uri": "https://localhost:8080/"
        },
        "id": "fWLmgtwD-nbs",
        "outputId": "50b1bbee-8a13-44e4-89e0-d93886506e2d"
      },
      "execution_count": 50,
      "outputs": [
        {
          "output_type": "execute_result",
          "data": {
            "text/plain": [
              "['10+', 'years']"
            ]
          },
          "metadata": {},
          "execution_count": 50
        }
      ]
    },
    {
      "cell_type": "code",
      "source": [
        "def convert(col_value):\n",
        "  value = 0\n",
        "  split_value = col_value.split()\n",
        "  n_of_words = len(split_value)\n",
        "  if n_of_words == 2:\n",
        "    if split_value[0] == '10+':\n",
        "      value = 11\n",
        "    else:\n",
        "      value = int(split_value[0])\n",
        "  else:\n",
        "    value = 0\n",
        "  return value\n"
      ],
      "metadata": {
        "id": "JW6C05wm-4jt"
      },
      "execution_count": 51,
      "outputs": []
    },
    {
      "cell_type": "code",
      "source": [
        "data['emp_length'] = data['emp_length'].map(convert, na_action='ignore')"
      ],
      "metadata": {
        "id": "50J2CQmQAb_u"
      },
      "execution_count": 52,
      "outputs": []
    },
    {
      "cell_type": "code",
      "source": [
        "data['emp_length'].value_counts()"
      ],
      "metadata": {
        "colab": {
          "base_uri": "https://localhost:8080/"
        },
        "id": "CuXZ15gKC4WT",
        "outputId": "a5717989-32b8-4706-b8a4-40327652a693"
      },
      "execution_count": 53,
      "outputs": [
        {
          "output_type": "execute_result",
          "data": {
            "text/plain": [
              "11.0    126041\n",
              "2.0      35827\n",
              "0.0      31725\n",
              "3.0      31665\n",
              "5.0      26495\n",
              "1.0      25882\n",
              "4.0      23952\n",
              "6.0      20841\n",
              "7.0      20819\n",
              "8.0      19168\n",
              "9.0      15314\n",
              "Name: emp_length, dtype: int64"
            ]
          },
          "metadata": {},
          "execution_count": 53
        }
      ]
    },
    {
      "cell_type": "code",
      "source": [
        "\n",
        "\n",
        "sns.countplot(data['emp_length'], palette='gnuplot2_r')"
      ],
      "metadata": {
        "colab": {
          "base_uri": "https://localhost:8080/",
          "height": 297
        },
        "id": "GBnObVq7C7hD",
        "outputId": "4a83ef36-45b3-4e66-e505-241c51c9968b"
      },
      "execution_count": 54,
      "outputs": [
        {
          "output_type": "execute_result",
          "data": {
            "text/plain": [
              "<matplotlib.axes._subplots.AxesSubplot at 0x7f89836f2700>"
            ]
          },
          "metadata": {},
          "execution_count": 54
        },
        {
          "output_type": "display_data",
          "data": {
            "text/plain": [
              "<Figure size 432x288 with 1 Axes>"
            ],
            "image/png": "[encoded data removed]"
          },
          "metadata": {
            "needs_background": "light"
          }
        }
      ]
    },
    {
      "cell_type": "code",
      "source": [
        "# Is this column useful?\n",
        "\n",
        "emp_co = data[data['loan_status']==\"Charged Off\"].groupby(\"emp_length\").count()['loan_status']\n",
        "\n",
        "emp_fp = data[data['loan_status']==\"Fully Paid\"].groupby(\"emp_length\").count()['loan_status']\n",
        "\n",
        "emp_len = emp_co / emp_fp\n",
        "\n",
        "emp_len"
      ],
      "metadata": {
        "colab": {
          "base_uri": "https://localhost:8080/"
        },
        "id": "LwJgUp6pDGT3",
        "outputId": "6c1a71f2-4ada-405d-ff1d-d1e1e9b59d14"
      },
      "execution_count": 55,
      "outputs": [
        {
          "output_type": "execute_result",
          "data": {
            "text/plain": [
              "emp_length\n",
              "0.0     0.260830\n",
              "1.0     0.248649\n",
              "2.0     0.239560\n",
              "3.0     0.242593\n",
              "4.0     0.238213\n",
              "5.0     0.237911\n",
              "6.0     0.233341\n",
              "7.0     0.241887\n",
              "8.0     0.249625\n",
              "9.0     0.250735\n",
              "11.0    0.225770\n",
              "Name: loan_status, dtype: float64"
            ]
          },
          "metadata": {},
          "execution_count": 55
        }
      ]
    },
    {
      "cell_type": "code",
      "source": [
        "plt.figure(figsize=(12,4))\n",
        "sns.countplot(x='emp_length',data=data, order=[float(i) for i in range(0, 12)], hue='loan_status')"
      ],
      "metadata": {
        "colab": {
          "base_uri": "https://localhost:8080/",
          "height": 297
        },
        "id": "3RDzYmfvy2Bt",
        "outputId": "2b55edea-a323-4e57-a0e7-52b1cf01bd08"
      },
      "execution_count": 56,
      "outputs": [
        {
          "output_type": "execute_result",
          "data": {
            "text/plain": [
              "<matplotlib.axes._subplots.AxesSubplot at 0x7f8983768e50>"
            ]
          },
          "metadata": {},
          "execution_count": 56
        },
        {
          "output_type": "display_data",
          "data": {
            "text/plain": [
              "<Figure size 864x288 with 1 Axes>"
            ],
            "image/png": "[encoded data removed]"
          },
          "metadata": {
            "needs_background": "light"
          }
        }
      ]
    },
    {
      "cell_type": "code",
      "source": [
        "# charge off rates are extremely similar accross all columns, I'll drop this column too\n",
        "\n",
        "data.drop('emp_length', axis='columns', inplace=True)"
      ],
      "metadata": {
        "id": "2eJ0eetEzO1m"
      },
      "execution_count": 57,
      "outputs": []
    },
    {
      "cell_type": "markdown",
      "source": [
        "#### home_ownership column"
      ],
      "metadata": {
        "id": "f_sVPpP5zcSK"
      }
    },
    {
      "cell_type": "code",
      "source": [
        "get_col_description('home_ownership')"
      ],
      "metadata": {
        "colab": {
          "base_uri": "https://localhost:8080/"
        },
        "id": "MmkUpIMLzdp_",
        "outputId": "f3846769-cd9d-4a7a-e7e7-f88ba7c4d841"
      },
      "execution_count": 58,
      "outputs": [
        {
          "output_type": "stream",
          "name": "stdout",
          "text": [
            "\n",
            "Column name: home_ownership\n",
            "\n",
            "Data type of the column: object\n",
            "\n",
            "Column information: The home ownership status provided by the borrower during registration or obtained from the credit report. Our values are:\n",
            "\n",
            "                    RENT, OWN, MORTGAGE, OTHER\n",
            "\n"
          ]
        }
      ]
    },
    {
      "cell_type": "code",
      "source": [
        "data['home_ownership'].value_counts()"
      ],
      "metadata": {
        "colab": {
          "base_uri": "https://localhost:8080/"
        },
        "id": "aGX-gg6-znFo",
        "outputId": "278866c0-f54d-4c48-aa4a-c0aefdb34a3f"
      },
      "execution_count": 59,
      "outputs": [
        {
          "output_type": "execute_result",
          "data": {
            "text/plain": [
              "MORTGAGE    198348\n",
              "RENT        159790\n",
              "OWN          37746\n",
              "OTHER          112\n",
              "NONE            31\n",
              "ANY              3\n",
              "Name: home_ownership, dtype: int64"
            ]
          },
          "metadata": {},
          "execution_count": 59
        }
      ]
    },
    {
      "cell_type": "code",
      "source": [
        "data['home_ownership'].isnull().sum()"
      ],
      "metadata": {
        "colab": {
          "base_uri": "https://localhost:8080/"
        },
        "id": "x6ggzOee0DEA",
        "outputId": "50341746-7cc3-4a16-c44d-f602476912fa"
      },
      "execution_count": 60,
      "outputs": [
        {
          "output_type": "execute_result",
          "data": {
            "text/plain": [
              "0"
            ]
          },
          "metadata": {},
          "execution_count": 60
        }
      ]
    },
    {
      "cell_type": "code",
      "source": [
        "def change(value):\n",
        "  if value == 'NONE' or value == 'ANY':\n",
        "    value = 'OTHER'\n",
        "  return value\n",
        "data['home_ownership'] = data['home_ownership'].map(change)\n",
        "\n",
        "\n",
        "data['home_ownership'].value_counts()"
      ],
      "metadata": {
        "colab": {
          "base_uri": "https://localhost:8080/"
        },
        "id": "AvKhP2xYzszK",
        "outputId": "46c201ab-a000-4890-b30e-e18c34ac4559"
      },
      "execution_count": 61,
      "outputs": [
        {
          "output_type": "execute_result",
          "data": {
            "text/plain": [
              "MORTGAGE    198348\n",
              "RENT        159790\n",
              "OWN          37746\n",
              "OTHER          146\n",
              "Name: home_ownership, dtype: int64"
            ]
          },
          "metadata": {},
          "execution_count": 61
        }
      ]
    },
    {
      "cell_type": "code",
      "source": [
        "sns.countplot(data['home_ownership'], palette=random.choice(palettes))"
      ],
      "metadata": {
        "colab": {
          "base_uri": "https://localhost:8080/",
          "height": 297
        },
        "id": "OPk56sas0PJ4",
        "outputId": "ad77b13b-ba31-4749-af91-1abcc0b24959"
      },
      "execution_count": 62,
      "outputs": [
        {
          "output_type": "execute_result",
          "data": {
            "text/plain": [
              "<matplotlib.axes._subplots.AxesSubplot at 0x7f8983d101c0>"
            ]
          },
          "metadata": {},
          "execution_count": 62
        },
        {
          "output_type": "display_data",
          "data": {
            "text/plain": [
              "<Figure size 432x288 with 1 Axes>"
            ],
            "image/png": "[encoded data removed]"
          },
          "metadata": {
            "needs_background": "light"
          }
        }
      ]
    },
    {
      "cell_type": "markdown",
      "source": [
        "#### annual_inc column"
      ],
      "metadata": {
        "id": "6-KIl_2x2FCP"
      }
    },
    {
      "cell_type": "code",
      "source": [
        "get_col_description('annual_inc')"
      ],
      "metadata": {
        "colab": {
          "base_uri": "https://localhost:8080/"
        },
        "id": "UbZ372de2TWr",
        "outputId": "14d1c505-2ead-4024-a354-5358727b1882"
      },
      "execution_count": 63,
      "outputs": [
        {
          "output_type": "stream",
          "name": "stdout",
          "text": [
            "\n",
            "Column name: annual_inc\n",
            "\n",
            "Data type of the column: float64\n",
            "\n",
            "Column information: The self-reported annual income provided by the borrower during registration.\n",
            "\n"
          ]
        }
      ]
    },
    {
      "cell_type": "code",
      "source": [
        "data['annual_inc'].describe()"
      ],
      "metadata": {
        "colab": {
          "base_uri": "https://localhost:8080/"
        },
        "id": "_1-291xc2e11",
        "outputId": "ed920849-b388-49c4-eb56-6b6684d36c88"
      },
      "execution_count": 64,
      "outputs": [
        {
          "output_type": "execute_result",
          "data": {
            "text/plain": [
              "count    3.960300e+05\n",
              "mean     7.420318e+04\n",
              "std      6.163762e+04\n",
              "min      0.000000e+00\n",
              "25%      4.500000e+04\n",
              "50%      6.400000e+04\n",
              "75%      9.000000e+04\n",
              "max      8.706582e+06\n",
              "Name: annual_inc, dtype: float64"
            ]
          },
          "metadata": {},
          "execution_count": 64
        }
      ]
    },
    {
      "cell_type": "code",
      "source": [
        "data['annual_inc'].plot(kind='kde')"
      ],
      "metadata": {
        "colab": {
          "base_uri": "https://localhost:8080/",
          "height": 306
        },
        "id": "M_gLN4Wa2j_K",
        "outputId": "b9ce4108-7483-4833-dcf4-4745dea00f67"
      },
      "execution_count": 65,
      "outputs": [
        {
          "output_type": "execute_result",
          "data": {
            "text/plain": [
              "<matplotlib.axes._subplots.AxesSubplot at 0x7f89847053a0>"
            ]
          },
          "metadata": {},
          "execution_count": 65
        },
        {
          "output_type": "display_data",
          "data": {
            "text/plain": [
              "<Figure size 432x288 with 1 Axes>"
            ],
            "image/png": "[encoded data removed]"
          },
          "metadata": {
            "needs_background": "light"
          }
        }
      ]
    },
    {
      "cell_type": "code",
      "source": [
        "data['annual_inc'].isnull().sum()"
      ],
      "metadata": {
        "colab": {
          "base_uri": "https://localhost:8080/"
        },
        "id": "xu4QfIQV2vC7",
        "outputId": "96586036-6b1e-4997-d51d-a953fdc671bb"
      },
      "execution_count": 66,
      "outputs": [
        {
          "output_type": "execute_result",
          "data": {
            "text/plain": [
              "0"
            ]
          },
          "metadata": {},
          "execution_count": 66
        }
      ]
    },
    {
      "cell_type": "code",
      "source": [
        "plt.xscale('log')\n",
        "sns.boxplot(data['annual_inc'])"
      ],
      "metadata": {
        "colab": {
          "base_uri": "https://localhost:8080/",
          "height": 301
        },
        "id": "nQ0tacEd3OvM",
        "outputId": "4779ff6e-4e0e-4555-d5cc-4e15470044fc"
      },
      "execution_count": 67,
      "outputs": [
        {
          "output_type": "execute_result",
          "data": {
            "text/plain": [
              "<matplotlib.axes._subplots.AxesSubplot at 0x7f8983bf21c0>"
            ]
          },
          "metadata": {},
          "execution_count": 67
        },
        {
          "output_type": "display_data",
          "data": {
            "text/plain": [
              "<Figure size 432x288 with 1 Axes>"
            ],
            "image/png": "[encoded data removed]"
          },
          "metadata": {
            "needs_background": "light"
          }
        }
      ]
    },
    {
      "cell_type": "code",
      "source": [
        "shapiro(data['annual_inc'])"
      ],
      "metadata": {
        "colab": {
          "base_uri": "https://localhost:8080/"
        },
        "id": "6oglUnzY3Vwr",
        "outputId": "4b97b98c-3c79-46eb-8583-d79916fd447f"
      },
      "execution_count": 68,
      "outputs": [
        {
          "output_type": "execute_result",
          "data": {
            "text/plain": [
              "ShapiroResult(statistic=0.4612038731575012, pvalue=0.0)"
            ]
          },
          "metadata": {},
          "execution_count": 68
        }
      ]
    },
    {
      "cell_type": "code",
      "source": [
        "# data is not normal\n",
        "data['annual_inc'].describe(percentiles=[i / 20 for i in range(0, 21)])"
      ],
      "metadata": {
        "colab": {
          "base_uri": "https://localhost:8080/"
        },
        "id": "4LIMbdk23mw0",
        "outputId": "3fad1be7-48db-4d3f-cb3c-3b10e11be7f3"
      },
      "execution_count": 69,
      "outputs": [
        {
          "output_type": "execute_result",
          "data": {
            "text/plain": [
              "count    3.960300e+05\n",
              "mean     7.420318e+04\n",
              "std      6.163762e+04\n",
              "min      0.000000e+00\n",
              "0%       0.000000e+00\n",
              "5%       2.800000e+04\n",
              "10%      3.400000e+04\n",
              "15%      3.800000e+04\n",
              "20%      4.200000e+04\n",
              "25%      4.500000e+04\n",
              "30%      5.000000e+04\n",
              "35%      5.200000e+04\n",
              "40%      5.550000e+04\n",
              "45%      6.000000e+04\n",
              "50%      6.400000e+04\n",
              "55%      6.800000e+04\n",
              "60%      7.200000e+04\n",
              "65%      7.700000e+04\n",
              "70%      8.200000e+04\n",
              "75%      9.000000e+04\n",
              "80%      9.700000e+04\n",
              "85%      1.070000e+05\n",
              "90%      1.200000e+05\n",
              "95%      1.500000e+05\n",
              "100%     8.706582e+06\n",
              "max      8.706582e+06\n",
              "Name: annual_inc, dtype: float64"
            ]
          },
          "metadata": {},
          "execution_count": 69
        }
      ]
    },
    {
      "cell_type": "code",
      "source": [
        "data['annual_inc'].min()"
      ],
      "metadata": {
        "colab": {
          "base_uri": "https://localhost:8080/"
        },
        "id": "iqOMIuhT3tOq",
        "outputId": "d042b42b-1dd8-4f34-f829-e0996aab1cc4"
      },
      "execution_count": 70,
      "outputs": [
        {
          "output_type": "execute_result",
          "data": {
            "text/plain": [
              "0.0"
            ]
          },
          "metadata": {},
          "execution_count": 70
        }
      ]
    },
    {
      "cell_type": "code",
      "source": [
        "data['annual_inc'].max()"
      ],
      "metadata": {
        "colab": {
          "base_uri": "https://localhost:8080/"
        },
        "id": "Pojtaz1x6EW8",
        "outputId": "696b0c58-1acb-4dae-f770-6d78a13ea9a2"
      },
      "execution_count": 71,
      "outputs": [
        {
          "output_type": "execute_result",
          "data": {
            "text/plain": [
              "8706582.0"
            ]
          },
          "metadata": {},
          "execution_count": 71
        }
      ]
    },
    {
      "cell_type": "code",
      "source": [
        "len(data[data['annual_inc'] < 1e3])"
      ],
      "metadata": {
        "colab": {
          "base_uri": "https://localhost:8080/"
        },
        "id": "AUn7L2_K6HCs",
        "outputId": "caab8fb1-1770-4d89-b28b-8f40bef745b3"
      },
      "execution_count": 72,
      "outputs": [
        {
          "output_type": "execute_result",
          "data": {
            "text/plain": [
              "2"
            ]
          },
          "metadata": {},
          "execution_count": 72
        }
      ]
    },
    {
      "cell_type": "code",
      "source": [
        "def get_monthly_income(annual_income):\n",
        "  return annual_income / 12\n",
        "\n",
        "\n",
        "\n",
        "data['monthly_income'] = data['annual_inc'].map(get_monthly_income)\n",
        "\n",
        "data.drop('annual_inc', axis='columns', inplace=True)"
      ],
      "metadata": {
        "id": "G3Gjb_vk6NRW"
      },
      "execution_count": 73,
      "outputs": []
    },
    {
      "cell_type": "code",
      "source": [
        "data['monthly_income'].describe()"
      ],
      "metadata": {
        "colab": {
          "base_uri": "https://localhost:8080/"
        },
        "id": "ZVmD65AX7F1y",
        "outputId": "5e635550-e0b1-4abc-ab62-3883e2faee20"
      },
      "execution_count": 74,
      "outputs": [
        {
          "output_type": "execute_result",
          "data": {
            "text/plain": [
              "count    396030.000000\n",
              "mean       6183.597983\n",
              "std        5136.468430\n",
              "min           0.000000\n",
              "25%        3750.000000\n",
              "50%        5333.333333\n",
              "75%        7500.000000\n",
              "max      725548.500000\n",
              "Name: monthly_income, dtype: float64"
            ]
          },
          "metadata": {},
          "execution_count": 74
        }
      ]
    },
    {
      "cell_type": "code",
      "source": [
        "plt.xscale('log')\n",
        "sns.boxplot(data['monthly_income'])"
      ],
      "metadata": {
        "colab": {
          "base_uri": "https://localhost:8080/",
          "height": 301
        },
        "id": "r0qJlMMx7FhI",
        "outputId": "db7907ae-c716-4766-e8ce-921dd6dbd36a"
      },
      "execution_count": 75,
      "outputs": [
        {
          "output_type": "execute_result",
          "data": {
            "text/plain": [
              "<matplotlib.axes._subplots.AxesSubplot at 0x7f89838a5580>"
            ]
          },
          "metadata": {},
          "execution_count": 75
        },
        {
          "output_type": "display_data",
          "data": {
            "text/plain": [
              "<Figure size 432x288 with 1 Axes>"
            ],
            "image/png": "[encoded data removed]"
          },
          "metadata": {
            "needs_background": "light"
          }
        }
      ]
    },
    {
      "cell_type": "markdown",
      "source": [
        "#### verification_status column"
      ],
      "metadata": {
        "id": "rQiPfewO68_p"
      }
    },
    {
      "cell_type": "code",
      "source": [
        "get_col_description('verification_status')"
      ],
      "metadata": {
        "colab": {
          "base_uri": "https://localhost:8080/"
        },
        "id": "-ERjq_m17hwe",
        "outputId": "a95325f8-bb28-4615-b6d8-40ba4ef3da2d"
      },
      "execution_count": 76,
      "outputs": [
        {
          "output_type": "stream",
          "name": "stdout",
          "text": [
            "\n",
            "Column name: verification_status\n",
            "\n",
            "Data type of the column: object\n",
            "\n",
            "Column information: Indicates if income was verified by LC, not verified, or if the income source was verified\n",
            "\n"
          ]
        }
      ]
    },
    {
      "cell_type": "code",
      "source": [
        "data['verification_status'].nunique()"
      ],
      "metadata": {
        "colab": {
          "base_uri": "https://localhost:8080/"
        },
        "id": "1UlvfJQ67uv1",
        "outputId": "ba275a72-867f-469d-bfd1-8be165fb8171"
      },
      "execution_count": 77,
      "outputs": [
        {
          "output_type": "execute_result",
          "data": {
            "text/plain": [
              "3"
            ]
          },
          "metadata": {},
          "execution_count": 77
        }
      ]
    },
    {
      "cell_type": "code",
      "source": [
        "data['verification_status'].value_counts()"
      ],
      "metadata": {
        "colab": {
          "base_uri": "https://localhost:8080/"
        },
        "id": "_gD71S4i71W5",
        "outputId": "878724fe-e0bf-4a2e-e4ee-e76c2f3fd0c5"
      },
      "execution_count": 78,
      "outputs": [
        {
          "output_type": "execute_result",
          "data": {
            "text/plain": [
              "Verified           139563\n",
              "Source Verified    131385\n",
              "Not Verified       125082\n",
              "Name: verification_status, dtype: int64"
            ]
          },
          "metadata": {},
          "execution_count": 78
        }
      ]
    },
    {
      "cell_type": "code",
      "source": [
        "status = {'Not Verified' : 0, 'Verified' : 1, 'Source Verified' : 2}\n",
        "\n",
        "data['verification_status'] = data['verification_status'].map(status)\n",
        "\n",
        "\n",
        "data['verification_status'].value_counts().sort_index()"
      ],
      "metadata": {
        "colab": {
          "base_uri": "https://localhost:8080/"
        },
        "id": "58zxnzvW74-E",
        "outputId": "f8a956b0-b78f-437d-e80d-9fdddf1c5e5d"
      },
      "execution_count": 79,
      "outputs": [
        {
          "output_type": "execute_result",
          "data": {
            "text/plain": [
              "0    125082\n",
              "1    139563\n",
              "2    131385\n",
              "Name: verification_status, dtype: int64"
            ]
          },
          "metadata": {},
          "execution_count": 79
        }
      ]
    },
    {
      "cell_type": "markdown",
      "source": [
        "#### Last touches"
      ],
      "metadata": {
        "id": "5EjDuYfR8kEw"
      }
    },
    {
      "cell_type": "code",
      "source": [
        "data['loan_repaid'] = data['loan_status'].map({'Fully Paid':1, 'Charged Off':0})"
      ],
      "metadata": {
        "id": "eX6fwGPgObaO"
      },
      "execution_count": 80,
      "outputs": []
    },
    {
      "cell_type": "markdown",
      "source": [
        "### Data PreProcessing"
      ],
      "metadata": {
        "id": "vMfwVoLQOlKG"
      }
    },
    {
      "cell_type": "code",
      "source": [
        "len(data)"
      ],
      "metadata": {
        "colab": {
          "base_uri": "https://localhost:8080/"
        },
        "id": "fQXoDMDDPMrS",
        "outputId": "8950e7ba-e0cb-409e-b2fb-d853014ccb02"
      },
      "execution_count": 81,
      "outputs": [
        {
          "output_type": "execute_result",
          "data": {
            "text/plain": [
              "396030"
            ]
          },
          "metadata": {},
          "execution_count": 81
        }
      ]
    },
    {
      "cell_type": "code",
      "source": [
        "data.isnull().sum()"
      ],
      "metadata": {
        "colab": {
          "base_uri": "https://localhost:8080/"
        },
        "id": "wICOFTcYPPn8",
        "outputId": "2cf7f023-c4bf-4bfe-a740-36798bf5feab"
      },
      "execution_count": 82,
      "outputs": [
        {
          "output_type": "execute_result",
          "data": {
            "text/plain": [
              "loan_amnt                   0\n",
              "term                        0\n",
              "int_rate                    0\n",
              "installment                 0\n",
              "grade                       0\n",
              "sub_grade                   0\n",
              "home_ownership              0\n",
              "verification_status         0\n",
              "issue_d                     0\n",
              "loan_status                 0\n",
              "purpose                     0\n",
              "title                    1755\n",
              "dti                         0\n",
              "earliest_cr_line            0\n",
              "open_acc                    0\n",
              "pub_rec                     0\n",
              "revol_bal                   0\n",
              "revol_util                276\n",
              "total_acc                   0\n",
              "initial_list_status         0\n",
              "application_type            0\n",
              "mort_acc                37795\n",
              "pub_rec_bankruptcies      535\n",
              "address                     0\n",
              "monthly_income              0\n",
              "loan_repaid                 0\n",
              "dtype: int64"
            ]
          },
          "metadata": {},
          "execution_count": 82
        }
      ]
    },
    {
      "cell_type": "code",
      "source": [
        "data['loan_status'].value_counts()"
      ],
      "metadata": {
        "colab": {
          "base_uri": "https://localhost:8080/"
        },
        "id": "jHsBLYFzPTxm",
        "outputId": "1964957a-e696-4637-87c9-3d0c0464fe4e"
      },
      "execution_count": 83,
      "outputs": [
        {
          "output_type": "execute_result",
          "data": {
            "text/plain": [
              "Fully Paid     318357\n",
              "Charged Off     77673\n",
              "Name: loan_status, dtype: int64"
            ]
          },
          "metadata": {},
          "execution_count": 83
        }
      ]
    },
    {
      "cell_type": "code",
      "source": [
        "data.isnull().sum() / len(data) * 100.0"
      ],
      "metadata": {
        "colab": {
          "base_uri": "https://localhost:8080/"
        },
        "id": "1KAu8oFVPhbC",
        "outputId": "b4763a2b-0b36-4c60-9c4c-7a459278f97d"
      },
      "execution_count": 84,
      "outputs": [
        {
          "output_type": "execute_result",
          "data": {
            "text/plain": [
              "loan_amnt               0.000000\n",
              "term                    0.000000\n",
              "int_rate                0.000000\n",
              "installment             0.000000\n",
              "grade                   0.000000\n",
              "sub_grade               0.000000\n",
              "home_ownership          0.000000\n",
              "verification_status     0.000000\n",
              "issue_d                 0.000000\n",
              "loan_status             0.000000\n",
              "purpose                 0.000000\n",
              "title                   0.443148\n",
              "dti                     0.000000\n",
              "earliest_cr_line        0.000000\n",
              "open_acc                0.000000\n",
              "pub_rec                 0.000000\n",
              "revol_bal               0.000000\n",
              "revol_util              0.069692\n",
              "total_acc               0.000000\n",
              "initial_list_status     0.000000\n",
              "application_type        0.000000\n",
              "mort_acc                9.543469\n",
              "pub_rec_bankruptcies    0.135091\n",
              "address                 0.000000\n",
              "monthly_income          0.000000\n",
              "loan_repaid             0.000000\n",
              "dtype: float64"
            ]
          },
          "metadata": {},
          "execution_count": 84
        }
      ]
    },
    {
      "cell_type": "code",
      "source": [
        "# correlations\n",
        "\n",
        "plt.figure(figsize=(12,7))\n",
        "sns.heatmap(data.corr(),annot=True,cmap='viridis')\n",
        "plt.ylim(10, 0)"
      ],
      "metadata": {
        "colab": {
          "base_uri": "https://localhost:8080/",
          "height": 609
        },
        "id": "Ugn4B7gLPz0Q",
        "outputId": "a9252e9b-43ee-4aae-ec64-4b84fead9be9"
      },
      "execution_count": 85,
      "outputs": [
        {
          "output_type": "execute_result",
          "data": {
            "text/plain": [
              "(10.0, 0.0)"
            ]
          },
          "metadata": {},
          "execution_count": 85
        },
        {
          "output_type": "display_data",
          "data": {
            "text/plain": [
              "<Figure size 864x504 with 2 Axes>"
            ],
            "image/png": "[encoded data removed]"
          },
          "metadata": {
            "needs_background": "light"
          }
        }
      ]
    },
    {
      "cell_type": "code",
      "source": [
        "# dealing with missing data\n",
        "\n",
        "data['purpose'].head()"
      ],
      "metadata": {
        "colab": {
          "base_uri": "https://localhost:8080/"
        },
        "id": "Zv2Wwd8pZYgY",
        "outputId": "5c336450-5640-4686-81d7-24f1f86df7eb"
      },
      "execution_count": 86,
      "outputs": [
        {
          "output_type": "execute_result",
          "data": {
            "text/plain": [
              "0              vacation\n",
              "1    debt_consolidation\n",
              "2           credit_card\n",
              "3           credit_card\n",
              "4           credit_card\n",
              "Name: purpose, dtype: object"
            ]
          },
          "metadata": {},
          "execution_count": 86
        }
      ]
    },
    {
      "cell_type": "code",
      "source": [
        "data['title'].head(10)"
      ],
      "metadata": {
        "colab": {
          "base_uri": "https://localhost:8080/"
        },
        "id": "ZttTxLMtZyLf",
        "outputId": "bee21d20-acdb-4930-b54e-b9c5ddaa16fa"
      },
      "execution_count": 87,
      "outputs": [
        {
          "output_type": "execute_result",
          "data": {
            "text/plain": [
              "0                   Vacation\n",
              "1         Debt consolidation\n",
              "2    Credit card refinancing\n",
              "3    Credit card refinancing\n",
              "4      Credit Card Refinance\n",
              "5         Debt consolidation\n",
              "6           Home improvement\n",
              "7       No More Credit Cards\n",
              "8         Debt consolidation\n",
              "9         Debt Consolidation\n",
              "Name: title, dtype: object"
            ]
          },
          "metadata": {},
          "execution_count": 87
        }
      ]
    },
    {
      "cell_type": "code",
      "source": [
        "data['title'].value_counts()"
      ],
      "metadata": {
        "colab": {
          "base_uri": "https://localhost:8080/"
        },
        "id": "U2r3zSlLZ1Kr",
        "outputId": "dd7d4d5b-1c0e-4508-eb34-aeaec20af10a"
      },
      "execution_count": 88,
      "outputs": [
        {
          "output_type": "execute_result",
          "data": {
            "text/plain": [
              "Debt consolidation            152472\n",
              "Credit card refinancing        51487\n",
              "Home improvement               15264\n",
              "Other                          12930\n",
              "Debt Consolidation             11608\n",
              "                               ...  \n",
              "Graduation/Travel Expenses         1\n",
              "Daughter's Wedding Bill            1\n",
              "gotta move                         1\n",
              "creditcardrefi                     1\n",
              "Toxic Debt Payoff                  1\n",
              "Name: title, Length: 48817, dtype: int64"
            ]
          },
          "metadata": {},
          "execution_count": 88
        }
      ]
    },
    {
      "cell_type": "code",
      "source": [
        "data.drop('title', axis='columns', inplace=True)"
      ],
      "metadata": {
        "id": "eg2yWfS4Z8ov"
      },
      "execution_count": 89,
      "outputs": []
    },
    {
      "cell_type": "code",
      "source": [
        "data['mort_acc'].value_counts()"
      ],
      "metadata": {
        "colab": {
          "base_uri": "https://localhost:8080/"
        },
        "id": "-ChAZ5ocaC5O",
        "outputId": "18080ec9-81bd-40e8-93fb-dda21ceaa2ad"
      },
      "execution_count": 90,
      "outputs": [
        {
          "output_type": "execute_result",
          "data": {
            "text/plain": [
              "0.0     139777\n",
              "1.0      60416\n",
              "2.0      49948\n",
              "3.0      38049\n",
              "4.0      27887\n",
              "5.0      18194\n",
              "6.0      11069\n",
              "7.0       6052\n",
              "8.0       3121\n",
              "9.0       1656\n",
              "10.0       865\n",
              "11.0       479\n",
              "12.0       264\n",
              "13.0       146\n",
              "14.0       107\n",
              "15.0        61\n",
              "16.0        37\n",
              "17.0        22\n",
              "18.0        18\n",
              "19.0        15\n",
              "20.0        13\n",
              "24.0        10\n",
              "22.0         7\n",
              "21.0         4\n",
              "25.0         4\n",
              "27.0         3\n",
              "32.0         2\n",
              "31.0         2\n",
              "23.0         2\n",
              "26.0         2\n",
              "28.0         1\n",
              "30.0         1\n",
              "34.0         1\n",
              "Name: mort_acc, dtype: int64"
            ]
          },
          "metadata": {},
          "execution_count": 90
        }
      ]
    },
    {
      "cell_type": "code",
      "source": [
        "data.corr()['mort_acc'].sort_values()"
      ],
      "metadata": {
        "colab": {
          "base_uri": "https://localhost:8080/"
        },
        "id": "NrxL93TPaLCm",
        "outputId": "793baa39-87d8-4785-db51-b5f4e3d6a083"
      },
      "execution_count": 91,
      "outputs": [
        {
          "output_type": "execute_result",
          "data": {
            "text/plain": [
              "int_rate               -0.082583\n",
              "dti                    -0.025439\n",
              "revol_util              0.007514\n",
              "pub_rec                 0.011552\n",
              "pub_rec_bankruptcies    0.027239\n",
              "verification_status     0.036960\n",
              "loan_repaid             0.073111\n",
              "term                    0.096220\n",
              "open_acc                0.109205\n",
              "installment             0.193694\n",
              "revol_bal               0.194925\n",
              "loan_amnt               0.222315\n",
              "monthly_income          0.236320\n",
              "total_acc               0.381072\n",
              "mort_acc                1.000000\n",
              "Name: mort_acc, dtype: float64"
            ]
          },
          "metadata": {},
          "execution_count": 91
        }
      ]
    },
    {
      "cell_type": "code",
      "source": [
        "total_acc_avg = data.groupby('total_acc')['mort_acc'].mean()"
      ],
      "metadata": {
        "id": "LowBrzJMankX"
      },
      "execution_count": 92,
      "outputs": []
    },
    {
      "cell_type": "code",
      "source": [
        "def fill_mort_acc(total_acc, mort_acc):\n",
        "\n",
        "  if np.isnan(mort_acc):\n",
        "    return total_acc_avg[total_acc]\n",
        "  return mort_acc"
      ],
      "metadata": {
        "id": "_eAGdEUda7-Z"
      },
      "execution_count": 93,
      "outputs": []
    },
    {
      "cell_type": "code",
      "source": [
        "data['mort_acc'] = data.apply(lambda x: fill_mort_acc(x['total_acc'], x['mort_acc']), axis='columns')"
      ],
      "metadata": {
        "id": "lY91Umhsbjj5"
      },
      "execution_count": 94,
      "outputs": []
    },
    {
      "cell_type": "code",
      "source": [
        "data.dropna(axis='columns', inplace=True)"
      ],
      "metadata": {
        "id": "_zsWsyBKb4q2"
      },
      "execution_count": 95,
      "outputs": []
    },
    {
      "cell_type": "code",
      "source": [
        "len(data)"
      ],
      "metadata": {
        "colab": {
          "base_uri": "https://localhost:8080/"
        },
        "id": "a1DIZdKFcHNy",
        "outputId": "953266e4-9513-4d66-b836-4743192f3d2c"
      },
      "execution_count": 96,
      "outputs": [
        {
          "output_type": "execute_result",
          "data": {
            "text/plain": [
              "396030"
            ]
          },
          "metadata": {},
          "execution_count": 96
        }
      ]
    },
    {
      "cell_type": "code",
      "source": [
        "data.isnull().sum()"
      ],
      "metadata": {
        "colab": {
          "base_uri": "https://localhost:8080/"
        },
        "id": "o9vyA188cK4M",
        "outputId": "b62e192d-b06a-4ab4-8501-d367befcc2a4"
      },
      "execution_count": 97,
      "outputs": [
        {
          "output_type": "execute_result",
          "data": {
            "text/plain": [
              "loan_amnt              0\n",
              "term                   0\n",
              "int_rate               0\n",
              "installment            0\n",
              "grade                  0\n",
              "sub_grade              0\n",
              "home_ownership         0\n",
              "verification_status    0\n",
              "issue_d                0\n",
              "loan_status            0\n",
              "purpose                0\n",
              "dti                    0\n",
              "earliest_cr_line       0\n",
              "open_acc               0\n",
              "pub_rec                0\n",
              "revol_bal              0\n",
              "total_acc              0\n",
              "initial_list_status    0\n",
              "application_type       0\n",
              "mort_acc               0\n",
              "address                0\n",
              "monthly_income         0\n",
              "loan_repaid            0\n",
              "dtype: int64"
            ]
          },
          "metadata": {},
          "execution_count": 97
        }
      ]
    },
    {
      "cell_type": "code",
      "source": [
        "data.select_dtypes(['object']).columns"
      ],
      "metadata": {
        "colab": {
          "base_uri": "https://localhost:8080/"
        },
        "id": "sh8B0r8dcRwN",
        "outputId": "b54c0b66-f4e8-4b65-e5e1-c1bf701f7178"
      },
      "execution_count": 98,
      "outputs": [
        {
          "output_type": "execute_result",
          "data": {
            "text/plain": [
              "Index(['grade', 'sub_grade', 'home_ownership', 'issue_d', 'loan_status',\n",
              "       'purpose', 'earliest_cr_line', 'initial_list_status',\n",
              "       'application_type', 'address'],\n",
              "      dtype='object')"
            ]
          },
          "metadata": {},
          "execution_count": 98
        }
      ]
    },
    {
      "cell_type": "code",
      "source": [
        "data.drop('grade', axis='columns', inplace=True)"
      ],
      "metadata": {
        "id": "g9FUd5DpcbKR"
      },
      "execution_count": 99,
      "outputs": []
    },
    {
      "cell_type": "code",
      "source": [
        "# sub_grade into dummy variables\n",
        "\n",
        "dummies = pd.get_dummies(data['sub_grade'], drop_first=True)\n",
        "\n",
        "data = pd.concat([data.drop('sub_grade', axis='columns'), dummies], axis='columns')"
      ],
      "metadata": {
        "id": "vfSH5-PMcwyN"
      },
      "execution_count": 100,
      "outputs": []
    },
    {
      "cell_type": "code",
      "source": [
        "data.head()"
      ],
      "metadata": {
        "colab": {
          "base_uri": "https://localhost:8080/",
          "height": 444
        },
        "id": "FDRss7YfdZyW",
        "outputId": "38fe905a-25c6-43c9-9e08-5743a9ef5bd3"
      },
      "execution_count": 101,
      "outputs": [
        {
          "output_type": "execute_result",
          "data": {
            "text/plain": [
              "   loan_amnt  term  int_rate  installment home_ownership  verification_status  \\\n",
              "0    10000.0    36     11.44       329.48           RENT                    0   \n",
              "1     8000.0    36     11.99       265.68       MORTGAGE                    0   \n",
              "2    15600.0    36     10.49       506.97           RENT                    2   \n",
              "3     7200.0    36      6.49       220.65           RENT                    0   \n",
              "4    24375.0    60     17.27       609.33       MORTGAGE                    1   \n",
              "\n",
              "    issue_d  loan_status             purpose    dti earliest_cr_line  \\\n",
              "0  Jan-2015   Fully Paid            vacation  26.24         Jun-1990   \n",
              "1  Jan-2015   Fully Paid  debt_consolidation  22.05         Jul-2004   \n",
              "2  Jan-2015   Fully Paid         credit_card  12.79         Aug-2007   \n",
              "3  Nov-2014   Fully Paid         credit_card   2.60         Sep-2006   \n",
              "4  Apr-2013  Charged Off         credit_card  33.95         Mar-1999   \n",
              "\n",
              "   open_acc  pub_rec  revol_bal  total_acc initial_list_status  \\\n",
              "0      16.0      0.0    36369.0       25.0                   w   \n",
              "1      17.0      0.0    20131.0       27.0                   f   \n",
              "2      13.0      0.0    11987.0       26.0                   f   \n",
              "3       6.0      0.0     5472.0       13.0                   f   \n",
              "4      13.0      0.0    24584.0       43.0                   f   \n",
              "\n",
              "  application_type  mort_acc  \\\n",
              "0       INDIVIDUAL       0.0   \n",
              "1       INDIVIDUAL       3.0   \n",
              "2       INDIVIDUAL       0.0   \n",
              "3       INDIVIDUAL       0.0   \n",
              "4       INDIVIDUAL       1.0   \n",
              "\n",
              "                                             address  monthly_income  \\\n",
              "0     0174 Michelle Gateway\\r\\nMendozaberg, OK 22690     9750.000000   \n",
              "1  1076 Carney Fort Apt. 347\\r\\nLoganmouth, SD 05113     5416.666667   \n",
              "2  87025 Mark Dale Apt. 269\\r\\nNew Sabrina, WV 05113     3588.083333   \n",
              "3            823 Reid Ford\\r\\nDelacruzside, MA 00813     4500.000000   \n",
              "4             679 Luna Roads\\r\\nGreggshire, VA 11650     4583.333333   \n",
              "\n",
              "   loan_repaid  A2  A3  A4  A5  B1  B2  B3  B4  B5  C1  C2  C3  C4  C5  D1  \\\n",
              "0            1   0   0   0   0   0   0   0   1   0   0   0   0   0   0   0   \n",
              "1            1   0   0   0   0   0   0   0   0   1   0   0   0   0   0   0   \n",
              "2            1   0   0   0   0   0   0   1   0   0   0   0   0   0   0   0   \n",
              "3            1   1   0   0   0   0   0   0   0   0   0   0   0   0   0   0   \n",
              "4            0   0   0   0   0   0   0   0   0   0   0   0   0   0   1   0   \n",
              "\n",
              "   D2  D3  D4  D5  E1  E2  E3  E4  E5  F1  F2  F3  F4  F5  G1  G2  G3  G4  G5  \n",
              "0   0   0   0   0   0   0   0   0   0   0   0   0   0   0   0   0   0   0   0  \n",
              "1   0   0   0   0   0   0   0   0   0   0   0   0   0   0   0   0   0   0   0  \n",
              "2   0   0   0   0   0   0   0   0   0   0   0   0   0   0   0   0   0   0   0  \n",
              "3   0   0   0   0   0   0   0   0   0   0   0   0   0   0   0   0   0   0   0  \n",
              "4   0   0   0   0   0   0   0   0   0   0   0   0   0   0   0   0   0   0   0  "
            ],
            "text/html": [
              "\n",
              "  <div id=\"df-18e49e79-6c2f-4d5e-9356-c5b1425d7b26\">\n",
              "    <div class=\"colab-df-container\">\n",
              "      <div>\n",
              "<style scoped>\n",
              "    .dataframe tbody tr th:only-of-type {\n",
              "        vertical-align: middle;\n",
              "    }\n",
              "\n",
              "    .dataframe tbody tr th {\n",
              "        vertical-align: top;\n",
              "    }\n",
              "\n",
              "    .dataframe thead th {\n",
              "        text-align: right;\n",
              "    }\n",
              "</style>\n",
              "<table border=\"1\" class=\"dataframe\">\n",
              "  <thead>\n",
              "    <tr style=\"text-align: right;\">\n",
              "      <th></th>\n",
              "      <th>loan_amnt</th>\n",
              "      <th>term</th>\n",
              "      <th>int_rate</th>\n",
              "      <th>installment</th>\n",
              "      <th>home_ownership</th>\n",
              "      <th>verification_status</th>\n",
              "      <th>issue_d</th>\n",
              "      <th>loan_status</th>\n",
              "      <th>purpose</th>\n",
              "      <th>dti</th>\n",
              "      <th>earliest_cr_line</th>\n",
              "      <th>open_acc</th>\n",
              "      <th>pub_rec</th>\n",
              "      <th>revol_bal</th>\n",
              "      <th>total_acc</th>\n",
              "      <th>initial_list_status</th>\n",
              "      <th>application_type</th>\n",
              "      <th>mort_acc</th>\n",
              "      <th>address</th>\n",
              "      <th>monthly_income</th>\n",
              "      <th>loan_repaid</th>\n",
              "      <th>A2</th>\n",
              "      <th>A3</th>\n",
              "      <th>A4</th>\n",
              "      <th>A5</th>\n",
              "      <th>B1</th>\n",
              "      <th>B2</th>\n",
              "      <th>B3</th>\n",
              "      <th>B4</th>\n",
              "      <th>B5</th>\n",
              "      <th>C1</th>\n",
              "      <th>C2</th>\n",
              "      <th>C3</th>\n",
              "      <th>C4</th>\n",
              "      <th>C5</th>\n",
              "      <th>D1</th>\n",
              "      <th>D2</th>\n",
              "      <th>D3</th>\n",
              "      <th>D4</th>\n",
              "      <th>D5</th>\n",
              "      <th>E1</th>\n",
              "      <th>E2</th>\n",
              "      <th>E3</th>\n",
              "      <th>E4</th>\n",
              "      <th>E5</th>\n",
              "      <th>F1</th>\n",
              "      <th>F2</th>\n",
              "      <th>F3</th>\n",
              "      <th>F4</th>\n",
              "      <th>F5</th>\n",
              "      <th>G1</th>\n",
              "      <th>G2</th>\n",
              "      <th>G3</th>\n",
              "      <th>G4</th>\n",
              "      <th>G5</th>\n",
              "    </tr>\n",
              "  </thead>\n",
              "  <tbody>\n",
              "    <tr>\n",
              "      <th>0</th>\n",
              "      <td>10000.0</td>\n",
              "      <td>36</td>\n",
              "      <td>11.44</td>\n",
              "      <td>329.48</td>\n",
              "      <td>RENT</td>\n",
              "      <td>0</td>\n",
              "      <td>Jan-2015</td>\n",
              "      <td>Fully Paid</td>\n",
              "      <td>vacation</td>\n",
              "      <td>26.24</td>\n",
              "      <td>Jun-1990</td>\n",
              "      <td>16.0</td>\n",
              "      <td>0.0</td>\n",
              "      <td>36369.0</td>\n",
              "      <td>25.0</td>\n",
              "      <td>w</td>\n",
              "      <td>INDIVIDUAL</td>\n",
              "      <td>0.0</td>\n",
              "      <td>0174 Michelle Gateway\\r\\nMendozaberg, OK 22690</td>\n",
              "      <td>9750.000000</td>\n",
              "      <td>1</td>\n",
              "      <td>0</td>\n",
              "      <td>0</td>\n",
              "      <td>0</td>\n",
              "      <td>0</td>\n",
              "      <td>0</td>\n",
              "      <td>0</td>\n",
              "      <td>0</td>\n",
              "      <td>1</td>\n",
              "      <td>0</td>\n",
              "      <td>0</td>\n",
              "      <td>0</td>\n",
              "      <td>0</td>\n",
              "      <td>0</td>\n",
              "      <td>0</td>\n",
              "      <td>0</td>\n",
              "      <td>0</td>\n",
              "      <td>0</td>\n",
              "      <td>0</td>\n",
              "      <td>0</td>\n",
              "      <td>0</td>\n",
              "      <td>0</td>\n",
              "      <td>0</td>\n",
              "      <td>0</td>\n",
              "      <td>0</td>\n",
              "      <td>0</td>\n",
              "      <td>0</td>\n",
              "      <td>0</td>\n",
              "      <td>0</td>\n",
              "      <td>0</td>\n",
              "      <td>0</td>\n",
              "      <td>0</td>\n",
              "      <td>0</td>\n",
              "      <td>0</td>\n",
              "      <td>0</td>\n",
              "    </tr>\n",
              "    <tr>\n",
              "      <th>1</th>\n",
              "      <td>8000.0</td>\n",
              "      <td>36</td>\n",
              "      <td>11.99</td>\n",
              "      <td>265.68</td>\n",
              "      <td>MORTGAGE</td>\n",
              "      <td>0</td>\n",
              "      <td>Jan-2015</td>\n",
              "      <td>Fully Paid</td>\n",
              "      <td>debt_consolidation</td>\n",
              "      <td>22.05</td>\n",
              "      <td>Jul-2004</td>\n",
              "      <td>17.0</td>\n",
              "      <td>0.0</td>\n",
              "      <td>20131.0</td>\n",
              "      <td>27.0</td>\n",
              "      <td>f</td>\n",
              "      <td>INDIVIDUAL</td>\n",
              "      <td>3.0</td>\n",
              "      <td>1076 Carney Fort Apt. 347\\r\\nLoganmouth, SD 05113</td>\n",
              "      <td>5416.666667</td>\n",
              "      <td>1</td>\n",
              "      <td>0</td>\n",
              "      <td>0</td>\n",
              "      <td>0</td>\n",
              "      <td>0</td>\n",
              "      <td>0</td>\n",
              "      <td>0</td>\n",
              "      <td>0</td>\n",
              "      <td>0</td>\n",
              "      <td>1</td>\n",
              "      <td>0</td>\n",
              "      <td>0</td>\n",
              "      <td>0</td>\n",
              "      <td>0</td>\n",
              "      <td>0</td>\n",
              "      <td>0</td>\n",
              "      <td>0</td>\n",
              "      <td>0</td>\n",
              "      <td>0</td>\n",
              "      <td>0</td>\n",
              "      <td>0</td>\n",
              "      <td>0</td>\n",
              "      <td>0</td>\n",
              "      <td>0</td>\n",
              "      <td>0</td>\n",
              "      <td>0</td>\n",
              "      <td>0</td>\n",
              "      <td>0</td>\n",
              "      <td>0</td>\n",
              "      <td>0</td>\n",
              "      <td>0</td>\n",
              "      <td>0</td>\n",
              "      <td>0</td>\n",
              "      <td>0</td>\n",
              "      <td>0</td>\n",
              "    </tr>\n",
              "    <tr>\n",
              "      <th>2</th>\n",
              "      <td>15600.0</td>\n",
              "      <td>36</td>\n",
              "      <td>10.49</td>\n",
              "      <td>506.97</td>\n",
              "      <td>RENT</td>\n",
              "      <td>2</td>\n",
              "      <td>Jan-2015</td>\n",
              "      <td>Fully Paid</td>\n",
              "      <td>credit_card</td>\n",
              "      <td>12.79</td>\n",
              "      <td>Aug-2007</td>\n",
              "      <td>13.0</td>\n",
              "      <td>0.0</td>\n",
              "      <td>11987.0</td>\n",
              "      <td>26.0</td>\n",
              "      <td>f</td>\n",
              "      <td>INDIVIDUAL</td>\n",
              "      <td>0.0</td>\n",
              "      <td>87025 Mark Dale Apt. 269\\r\\nNew Sabrina, WV 05113</td>\n",
              "      <td>3588.083333</td>\n",
              "      <td>1</td>\n",
              "      <td>0</td>\n",
              "      <td>0</td>\n",
              "      <td>0</td>\n",
              "      <td>0</td>\n",
              "      <td>0</td>\n",
              "      <td>0</td>\n",
              "      <td>1</td>\n",
              "      <td>0</td>\n",
              "      <td>0</td>\n",
              "      <td>0</td>\n",
              "      <td>0</td>\n",
              "      <td>0</td>\n",
              "      <td>0</td>\n",
              "      <td>0</td>\n",
              "      <td>0</td>\n",
              "      <td>0</td>\n",
              "      <td>0</td>\n",
              "      <td>0</td>\n",
              "      <td>0</td>\n",
              "      <td>0</td>\n",
              "      <td>0</td>\n",
              "      <td>0</td>\n",
              "      <td>0</td>\n",
              "      <td>0</td>\n",
              "      <td>0</td>\n",
              "      <td>0</td>\n",
              "      <td>0</td>\n",
              "      <td>0</td>\n",
              "      <td>0</td>\n",
              "      <td>0</td>\n",
              "      <td>0</td>\n",
              "      <td>0</td>\n",
              "      <td>0</td>\n",
              "      <td>0</td>\n",
              "    </tr>\n",
              "    <tr>\n",
              "      <th>3</th>\n",
              "      <td>7200.0</td>\n",
              "      <td>36</td>\n",
              "      <td>6.49</td>\n",
              "      <td>220.65</td>\n",
              "      <td>RENT</td>\n",
              "      <td>0</td>\n",
              "      <td>Nov-2014</td>\n",
              "      <td>Fully Paid</td>\n",
              "      <td>credit_card</td>\n",
              "      <td>2.60</td>\n",
              "      <td>Sep-2006</td>\n",
              "      <td>6.0</td>\n",
              "      <td>0.0</td>\n",
              "      <td>5472.0</td>\n",
              "      <td>13.0</td>\n",
              "      <td>f</td>\n",
              "      <td>INDIVIDUAL</td>\n",
              "      <td>0.0</td>\n",
              "      <td>823 Reid Ford\\r\\nDelacruzside, MA 00813</td>\n",
              "      <td>4500.000000</td>\n",
              "      <td>1</td>\n",
              "      <td>1</td>\n",
              "      <td>0</td>\n",
              "      <td>0</td>\n",
              "      <td>0</td>\n",
              "      <td>0</td>\n",
              "      <td>0</td>\n",
              "      <td>0</td>\n",
              "      <td>0</td>\n",
              "      <td>0</td>\n",
              "      <td>0</td>\n",
              "      <td>0</td>\n",
              "      <td>0</td>\n",
              "      <td>0</td>\n",
              "      <td>0</td>\n",
              "      <td>0</td>\n",
              "      <td>0</td>\n",
              "      <td>0</td>\n",
              "      <td>0</td>\n",
              "      <td>0</td>\n",
              "      <td>0</td>\n",
              "      <td>0</td>\n",
              "      <td>0</td>\n",
              "      <td>0</td>\n",
              "      <td>0</td>\n",
              "      <td>0</td>\n",
              "      <td>0</td>\n",
              "      <td>0</td>\n",
              "      <td>0</td>\n",
              "      <td>0</td>\n",
              "      <td>0</td>\n",
              "      <td>0</td>\n",
              "      <td>0</td>\n",
              "      <td>0</td>\n",
              "      <td>0</td>\n",
              "    </tr>\n",
              "    <tr>\n",
              "      <th>4</th>\n",
              "      <td>24375.0</td>\n",
              "      <td>60</td>\n",
              "      <td>17.27</td>\n",
              "      <td>609.33</td>\n",
              "      <td>MORTGAGE</td>\n",
              "      <td>1</td>\n",
              "      <td>Apr-2013</td>\n",
              "      <td>Charged Off</td>\n",
              "      <td>credit_card</td>\n",
              "      <td>33.95</td>\n",
              "      <td>Mar-1999</td>\n",
              "      <td>13.0</td>\n",
              "      <td>0.0</td>\n",
              "      <td>24584.0</td>\n",
              "      <td>43.0</td>\n",
              "      <td>f</td>\n",
              "      <td>INDIVIDUAL</td>\n",
              "      <td>1.0</td>\n",
              "      <td>679 Luna Roads\\r\\nGreggshire, VA 11650</td>\n",
              "      <td>4583.333333</td>\n",
              "      <td>0</td>\n",
              "      <td>0</td>\n",
              "      <td>0</td>\n",
              "      <td>0</td>\n",
              "      <td>0</td>\n",
              "      <td>0</td>\n",
              "      <td>0</td>\n",
              "      <td>0</td>\n",
              "      <td>0</td>\n",
              "      <td>0</td>\n",
              "      <td>0</td>\n",
              "      <td>0</td>\n",
              "      <td>0</td>\n",
              "      <td>0</td>\n",
              "      <td>1</td>\n",
              "      <td>0</td>\n",
              "      <td>0</td>\n",
              "      <td>0</td>\n",
              "      <td>0</td>\n",
              "      <td>0</td>\n",
              "      <td>0</td>\n",
              "      <td>0</td>\n",
              "      <td>0</td>\n",
              "      <td>0</td>\n",
              "      <td>0</td>\n",
              "      <td>0</td>\n",
              "      <td>0</td>\n",
              "      <td>0</td>\n",
              "      <td>0</td>\n",
              "      <td>0</td>\n",
              "      <td>0</td>\n",
              "      <td>0</td>\n",
              "      <td>0</td>\n",
              "      <td>0</td>\n",
              "      <td>0</td>\n",
              "    </tr>\n",
              "  </tbody>\n",
              "</table>\n",
              "</div>\n",
              "      <button class=\"colab-df-convert\" onclick=\"convertToInteractive('df-18e49e79-6c2f-4d5e-9356-c5b1425d7b26')\"\n",
              "              title=\"Convert this dataframe to an interactive table.\"\n",
              "              style=\"display:none;\">\n",
              "        \n",
              "  <svg xmlns=\"http://www.w3.org/2000/svg\" height=\"24px\"viewBox=\"0 0 24 24\"\n",
              "       width=\"24px\">\n",
              "    <path d=\"M0 0h24v24H0V0z\" fill=\"none\"/>\n",
              "    <path d=\"M18.56 5.44l.94 2.06.94-2.06 2.06-.94-2.06-.94-.94-2.06-.94 2.06-2.06.94zm-11 1L8.5 8.5l.94-2.06 2.06-.94-2.06-.94L8.5 2.5l-.94 2.06-2.06.94zm10 10l.94 2.06.94-2.06 2.06-.94-2.06-.94-.94-2.06-.94 2.06-2.06.94z\"/><path d=\"M17.41 7.96l-1.37-1.37c-.4-.4-.92-.59-1.43-.59-.52 0-1.04.2-1.43.59L10.3 9.45l-7.72 7.72c-.78.78-.78 2.05 0 2.83L4 21.41c.39.39.9.59 1.41.59.51 0 1.02-.2 1.41-.59l7.78-7.78 2.81-2.81c.8-.78.8-2.07 0-2.86zM5.41 20L4 18.59l7.72-7.72 1.47 1.35L5.41 20z\"/>\n",
              "  </svg>\n",
              "      </button>\n",
              "      \n",
              "  <style>\n",
              "    .colab-df-container {\n",
              "      display:flex;\n",
              "      flex-wrap:wrap;\n",
              "      gap: 12px;\n",
              "    }\n",
              "\n",
              "    .colab-df-convert {\n",
              "      background-color: #E8F0FE;\n",
              "      border: none;\n",
              "      border-radius: 50%;\n",
              "      cursor: pointer;\n",
              "      display: none;\n",
              "      fill: #1967D2;\n",
              "      height: 32px;\n",
              "      padding: 0 0 0 0;\n",
              "      width: 32px;\n",
              "    }\n",
              "\n",
              "    .colab-df-convert:hover {\n",
              "      background-color: #E2EBFA;\n",
              "      box-shadow: 0px 1px 2px rgba(60, 64, 67, 0.3), 0px 1px 3px 1px rgba(60, 64, 67, 0.15);\n",
              "      fill: #174EA6;\n",
              "    }\n",
              "\n",
              "    [theme=dark] .colab-df-convert {\n",
              "      background-color: #3B4455;\n",
              "      fill: #D2E3FC;\n",
              "    }\n",
              "\n",
              "    [theme=dark] .colab-df-convert:hover {\n",
              "      background-color: #434B5C;\n",
              "      box-shadow: 0px 1px 3px 1px rgba(0, 0, 0, 0.15);\n",
              "      filter: drop-shadow(0px 1px 2px rgba(0, 0, 0, 0.3));\n",
              "      fill: #FFFFFF;\n",
              "    }\n",
              "  </style>\n",
              "\n",
              "      <script>\n",
              "        const buttonEl =\n",
              "          document.querySelector('#df-18e49e79-6c2f-4d5e-9356-c5b1425d7b26 button.colab-df-convert');\n",
              "        buttonEl.style.display =\n",
              "          google.colab.kernel.accessAllowed ? 'block' : 'none';\n",
              "\n",
              "        async function convertToInteractive(key) {\n",
              "          const element = document.querySelector('#df-18e49e79-6c2f-4d5e-9356-c5b1425d7b26');\n",
              "          const dataTable =\n",
              "            await google.colab.kernel.invokeFunction('convertToInteractive',\n",
              "                                                     [key], {});\n",
              "          if (!dataTable) return;\n",
              "\n",
              "          const docLinkHtml = 'Like what you see? Visit the ' +\n",
              "            '<a target=\"_blank\" href=https://colab.research.google.com/notebooks/data_table.ipynb>data table notebook</a>'\n",
              "            + ' to learn more about interactive tables.';\n",
              "          element.innerHTML = '';\n",
              "          dataTable['output_type'] = 'display_data';\n",
              "          await google.colab.output.renderOutput(dataTable, element);\n",
              "          const docLink = document.createElement('div');\n",
              "          docLink.innerHTML = docLinkHtml;\n",
              "          element.appendChild(docLink);\n",
              "        }\n",
              "      </script>\n",
              "    </div>\n",
              "  </div>\n",
              "  "
            ]
          },
          "metadata": {},
          "execution_count": 101
        }
      ]
    },
    {
      "cell_type": "code",
      "source": [
        "def dummies_df(columns, df=data):\n",
        "  for column in columns:\n",
        "    dummies = pd.get_dummies(df[column], drop_first=True)\n",
        "    df = pd.concat([df.drop(column, axis='columns'), dummies], axis='columns')\n",
        "  del dummies\n",
        "  return df"
      ],
      "metadata": {
        "id": "bItpBjNfdbLg"
      },
      "execution_count": 102,
      "outputs": []
    },
    {
      "cell_type": "code",
      "source": [
        "data['purpose'].value_counts()"
      ],
      "metadata": {
        "colab": {
          "base_uri": "https://localhost:8080/"
        },
        "id": "b-dlpipYebgm",
        "outputId": "768785e8-8d81-47ea-cb9d-e6fdddfaf5cc"
      },
      "execution_count": 103,
      "outputs": [
        {
          "output_type": "execute_result",
          "data": {
            "text/plain": [
              "debt_consolidation    234507\n",
              "credit_card            83019\n",
              "home_improvement       24030\n",
              "other                  21185\n",
              "major_purchase          8790\n",
              "small_business          5701\n",
              "car                     4697\n",
              "medical                 4196\n",
              "moving                  2854\n",
              "vacation                2452\n",
              "house                   2201\n",
              "wedding                 1812\n",
              "renewable_energy         329\n",
              "educational              257\n",
              "Name: purpose, dtype: int64"
            ]
          },
          "metadata": {},
          "execution_count": 103
        }
      ]
    },
    {
      "cell_type": "code",
      "source": [
        "data = dummies_df(('verification_status', 'application_type', 'initial_list_status', 'purpose'), df=data)"
      ],
      "metadata": {
        "id": "skc9PpxreGpB"
      },
      "execution_count": 104,
      "outputs": []
    },
    {
      "cell_type": "code",
      "source": [
        "data['home_ownership'].value_counts()"
      ],
      "metadata": {
        "colab": {
          "base_uri": "https://localhost:8080/"
        },
        "id": "4rG2lNagek62",
        "outputId": "941ce884-176f-4a82-f3eb-7659c2330ef0"
      },
      "execution_count": 105,
      "outputs": [
        {
          "output_type": "execute_result",
          "data": {
            "text/plain": [
              "MORTGAGE    198348\n",
              "RENT        159790\n",
              "OWN          37746\n",
              "OTHER          146\n",
              "Name: home_ownership, dtype: int64"
            ]
          },
          "metadata": {},
          "execution_count": 105
        }
      ]
    },
    {
      "cell_type": "code",
      "source": [
        "data = dummies_df(['home_ownership'], df=data)"
      ],
      "metadata": {
        "id": "Ve9bZnocetIs"
      },
      "execution_count": 106,
      "outputs": []
    },
    {
      "cell_type": "code",
      "source": [
        "data['zip_code'] = data['address'].map(lambda x:x[-5:])"
      ],
      "metadata": {
        "id": "yHJ2OQNce49b"
      },
      "execution_count": 107,
      "outputs": []
    },
    {
      "cell_type": "code",
      "source": [
        "data['zip_code'].value_counts()"
      ],
      "metadata": {
        "colab": {
          "base_uri": "https://localhost:8080/"
        },
        "id": "EOWKo-z-fLRP",
        "outputId": "975e1e75-3377-4671-fc45-f34d4b9e0b27"
      },
      "execution_count": 108,
      "outputs": [
        {
          "output_type": "execute_result",
          "data": {
            "text/plain": [
              "70466    56985\n",
              "30723    56546\n",
              "22690    56527\n",
              "48052    55917\n",
              "00813    45824\n",
              "29597    45471\n",
              "05113    45402\n",
              "11650    11226\n",
              "93700    11151\n",
              "86630    10981\n",
              "Name: zip_code, dtype: int64"
            ]
          },
          "metadata": {},
          "execution_count": 108
        }
      ]
    },
    {
      "cell_type": "code",
      "source": [
        "data.drop('address', axis='columns', inplace=True)\n",
        "\n",
        "data = dummies_df(['zip_code'], df=data)"
      ],
      "metadata": {
        "id": "PWuocFKlfPZs"
      },
      "execution_count": 109,
      "outputs": []
    },
    {
      "cell_type": "code",
      "source": [
        "data.drop('issue_d', axis='columns', inplace=True)"
      ],
      "metadata": {
        "id": "DR_kJTWpfcMD"
      },
      "execution_count": 110,
      "outputs": []
    },
    {
      "cell_type": "code",
      "source": [
        "data['earliest_cr_year'] = data['earliest_cr_line'].map(lambda x: int(x[-4:]))"
      ],
      "metadata": {
        "id": "tMAbdbQZfn_N"
      },
      "execution_count": 111,
      "outputs": []
    },
    {
      "cell_type": "code",
      "source": [
        "data.drop('earliest_cr_line', axis='columns', inplace=True)"
      ],
      "metadata": {
        "id": "psCLER9Ef_ve"
      },
      "execution_count": 112,
      "outputs": []
    },
    {
      "cell_type": "code",
      "source": [
        "## modelling phase\n",
        "\n",
        "data.drop('loan_status', axis='columns', inplace=True)\n",
        "\n",
        "\n",
        "X = data.drop('loan_repaid', axis='columns')\n",
        "y = data['loan_repaid']"
      ],
      "metadata": {
        "id": "KQAzmYGagHUk"
      },
      "execution_count": 113,
      "outputs": []
    },
    {
      "cell_type": "code",
      "source": [
        "X.head()"
      ],
      "metadata": {
        "colab": {
          "base_uri": "https://localhost:8080/",
          "height": 270
        },
        "id": "iHYcc221gn_o",
        "outputId": "9ceed07a-5832-4377-e2b7-b9ebdab7781b"
      },
      "execution_count": 114,
      "outputs": [
        {
          "output_type": "execute_result",
          "data": {
            "text/plain": [
              "   loan_amnt  term  int_rate  installment    dti  open_acc  pub_rec  \\\n",
              "0    10000.0    36     11.44       329.48  26.24      16.0      0.0   \n",
              "1     8000.0    36     11.99       265.68  22.05      17.0      0.0   \n",
              "2    15600.0    36     10.49       506.97  12.79      13.0      0.0   \n",
              "3     7200.0    36      6.49       220.65   2.60       6.0      0.0   \n",
              "4    24375.0    60     17.27       609.33  33.95      13.0      0.0   \n",
              "\n",
              "   revol_bal  total_acc  mort_acc  monthly_income  A2  A3  A4  A5  B1  B2  B3  \\\n",
              "0    36369.0       25.0       0.0     9750.000000   0   0   0   0   0   0   0   \n",
              "1    20131.0       27.0       3.0     5416.666667   0   0   0   0   0   0   0   \n",
              "2    11987.0       26.0       0.0     3588.083333   0   0   0   0   0   0   1   \n",
              "3     5472.0       13.0       0.0     4500.000000   1   0   0   0   0   0   0   \n",
              "4    24584.0       43.0       1.0     4583.333333   0   0   0   0   0   0   0   \n",
              "\n",
              "   B4  B5  C1  C2  C3  C4  C5  D1  D2  D3  D4  D5  E1  E2  E3  E4  E5  F1  F2  \\\n",
              "0   1   0   0   0   0   0   0   0   0   0   0   0   0   0   0   0   0   0   0   \n",
              "1   0   1   0   0   0   0   0   0   0   0   0   0   0   0   0   0   0   0   0   \n",
              "2   0   0   0   0   0   0   0   0   0   0   0   0   0   0   0   0   0   0   0   \n",
              "3   0   0   0   0   0   0   0   0   0   0   0   0   0   0   0   0   0   0   0   \n",
              "4   0   0   0   0   0   0   1   0   0   0   0   0   0   0   0   0   0   0   0   \n",
              "\n",
              "   F3  F4  F5  G1  G2  G3  G4  G5  1  2  INDIVIDUAL  JOINT  w  credit_card  \\\n",
              "0   0   0   0   0   0   0   0   0  0  0           1      0  1            0   \n",
              "1   0   0   0   0   0   0   0   0  0  0           1      0  0            0   \n",
              "2   0   0   0   0   0   0   0   0  0  1           1      0  0            1   \n",
              "3   0   0   0   0   0   0   0   0  0  0           1      0  0            1   \n",
              "4   0   0   0   0   0   0   0   0  1  0           1      0  0            1   \n",
              "\n",
              "   debt_consolidation  educational  home_improvement  house  major_purchase  \\\n",
              "0                   0            0                 0      0               0   \n",
              "1                   1            0                 0      0               0   \n",
              "2                   0            0                 0      0               0   \n",
              "3                   0            0                 0      0               0   \n",
              "4                   0            0                 0      0               0   \n",
              "\n",
              "   medical  moving  other  renewable_energy  small_business  vacation  \\\n",
              "0        0       0      0                 0               0         1   \n",
              "1        0       0      0                 0               0         0   \n",
              "2        0       0      0                 0               0         0   \n",
              "3        0       0      0                 0               0         0   \n",
              "4        0       0      0                 0               0         0   \n",
              "\n",
              "   wedding  OTHER  OWN  RENT  05113  11650  22690  29597  30723  48052  70466  \\\n",
              "0        0      0    0     1      0      0      1      0      0      0      0   \n",
              "1        0      0    0     0      1      0      0      0      0      0      0   \n",
              "2        0      0    0     1      1      0      0      0      0      0      0   \n",
              "3        0      0    0     1      0      0      0      0      0      0      0   \n",
              "4        0      0    0     0      0      1      0      0      0      0      0   \n",
              "\n",
              "   86630  93700  earliest_cr_year  \n",
              "0      0      0              1990  \n",
              "1      0      0              2004  \n",
              "2      0      0              2007  \n",
              "3      0      0              2006  \n",
              "4      0      0              1999  "
            ],
            "text/html": [
              "\n",
              "  <div id=\"df-f707da3f-ceff-4fd8-86c2-dd2a29083413\">\n",
              "    <div class=\"colab-df-container\">\n",
              "      <div>\n",
              "<style scoped>\n",
              "    .dataframe tbody tr th:only-of-type {\n",
              "        vertical-align: middle;\n",
              "    }\n",
              "\n",
              "    .dataframe tbody tr th {\n",
              "        vertical-align: top;\n",
              "    }\n",
              "\n",
              "    .dataframe thead th {\n",
              "        text-align: right;\n",
              "    }\n",
              "</style>\n",
              "<table border=\"1\" class=\"dataframe\">\n",
              "  <thead>\n",
              "    <tr style=\"text-align: right;\">\n",
              "      <th></th>\n",
              "      <th>loan_amnt</th>\n",
              "      <th>term</th>\n",
              "      <th>int_rate</th>\n",
              "      <th>installment</th>\n",
              "      <th>dti</th>\n",
              "      <th>open_acc</th>\n",
              "      <th>pub_rec</th>\n",
              "      <th>revol_bal</th>\n",
              "      <th>total_acc</th>\n",
              "      <th>mort_acc</th>\n",
              "      <th>monthly_income</th>\n",
              "      <th>A2</th>\n",
              "      <th>A3</th>\n",
              "      <th>A4</th>\n",
              "      <th>A5</th>\n",
              "      <th>B1</th>\n",
              "      <th>B2</th>\n",
              "      <th>B3</th>\n",
              "      <th>B4</th>\n",
              "      <th>B5</th>\n",
              "      <th>C1</th>\n",
              "      <th>C2</th>\n",
              "      <th>C3</th>\n",
              "      <th>C4</th>\n",
              "      <th>C5</th>\n",
              "      <th>D1</th>\n",
              "      <th>D2</th>\n",
              "      <th>D3</th>\n",
              "      <th>D4</th>\n",
              "      <th>D5</th>\n",
              "      <th>E1</th>\n",
              "      <th>E2</th>\n",
              "      <th>E3</th>\n",
              "      <th>E4</th>\n",
              "      <th>E5</th>\n",
              "      <th>F1</th>\n",
              "      <th>F2</th>\n",
              "      <th>F3</th>\n",
              "      <th>F4</th>\n",
              "      <th>F5</th>\n",
              "      <th>G1</th>\n",
              "      <th>G2</th>\n",
              "      <th>G3</th>\n",
              "      <th>G4</th>\n",
              "      <th>G5</th>\n",
              "      <th>1</th>\n",
              "      <th>2</th>\n",
              "      <th>INDIVIDUAL</th>\n",
              "      <th>JOINT</th>\n",
              "      <th>w</th>\n",
              "      <th>credit_card</th>\n",
              "      <th>debt_consolidation</th>\n",
              "      <th>educational</th>\n",
              "      <th>home_improvement</th>\n",
              "      <th>house</th>\n",
              "      <th>major_purchase</th>\n",
              "      <th>medical</th>\n",
              "      <th>moving</th>\n",
              "      <th>other</th>\n",
              "      <th>renewable_energy</th>\n",
              "      <th>small_business</th>\n",
              "      <th>vacation</th>\n",
              "      <th>wedding</th>\n",
              "      <th>OTHER</th>\n",
              "      <th>OWN</th>\n",
              "      <th>RENT</th>\n",
              "      <th>05113</th>\n",
              "      <th>11650</th>\n",
              "      <th>22690</th>\n",
              "      <th>29597</th>\n",
              "      <th>30723</th>\n",
              "      <th>48052</th>\n",
              "      <th>70466</th>\n",
              "      <th>86630</th>\n",
              "      <th>93700</th>\n",
              "      <th>earliest_cr_year</th>\n",
              "    </tr>\n",
              "  </thead>\n",
              "  <tbody>\n",
              "    <tr>\n",
              "      <th>0</th>\n",
              "      <td>10000.0</td>\n",
              "      <td>36</td>\n",
              "      <td>11.44</td>\n",
              "      <td>329.48</td>\n",
              "      <td>26.24</td>\n",
              "      <td>16.0</td>\n",
              "      <td>0.0</td>\n",
              "      <td>36369.0</td>\n",
              "      <td>25.0</td>\n",
              "      <td>0.0</td>\n",
              "      <td>9750.000000</td>\n",
              "      <td>0</td>\n",
              "      <td>0</td>\n",
              "      <td>0</td>\n",
              "      <td>0</td>\n",
              "      <td>0</td>\n",
              "      <td>0</td>\n",
              "      <td>0</td>\n",
              "      <td>1</td>\n",
              "      <td>0</td>\n",
              "      <td>0</td>\n",
              "      <td>0</td>\n",
              "      <td>0</td>\n",
              "      <td>0</td>\n",
              "      <td>0</td>\n",
              "      <td>0</td>\n",
              "      <td>0</td>\n",
              "      <td>0</td>\n",
              "      <td>0</td>\n",
              "      <td>0</td>\n",
              "      <td>0</td>\n",
              "      <td>0</td>\n",
              "      <td>0</td>\n",
              "      <td>0</td>\n",
              "      <td>0</td>\n",
              "      <td>0</td>\n",
              "      <td>0</td>\n",
              "      <td>0</td>\n",
              "      <td>0</td>\n",
              "      <td>0</td>\n",
              "      <td>0</td>\n",
              "      <td>0</td>\n",
              "      <td>0</td>\n",
              "      <td>0</td>\n",
              "      <td>0</td>\n",
              "      <td>0</td>\n",
              "      <td>0</td>\n",
              "      <td>1</td>\n",
              "      <td>0</td>\n",
              "      <td>1</td>\n",
              "      <td>0</td>\n",
              "      <td>0</td>\n",
              "      <td>0</td>\n",
              "      <td>0</td>\n",
              "      <td>0</td>\n",
              "      <td>0</td>\n",
              "      <td>0</td>\n",
              "      <td>0</td>\n",
              "      <td>0</td>\n",
              "      <td>0</td>\n",
              "      <td>0</td>\n",
              "      <td>1</td>\n",
              "      <td>0</td>\n",
              "      <td>0</td>\n",
              "      <td>0</td>\n",
              "      <td>1</td>\n",
              "      <td>0</td>\n",
              "      <td>0</td>\n",
              "      <td>1</td>\n",
              "      <td>0</td>\n",
              "      <td>0</td>\n",
              "      <td>0</td>\n",
              "      <td>0</td>\n",
              "      <td>0</td>\n",
              "      <td>0</td>\n",
              "      <td>1990</td>\n",
              "    </tr>\n",
              "    <tr>\n",
              "      <th>1</th>\n",
              "      <td>8000.0</td>\n",
              "      <td>36</td>\n",
              "      <td>11.99</td>\n",
              "      <td>265.68</td>\n",
              "      <td>22.05</td>\n",
              "      <td>17.0</td>\n",
              "      <td>0.0</td>\n",
              "      <td>20131.0</td>\n",
              "      <td>27.0</td>\n",
              "      <td>3.0</td>\n",
              "      <td>5416.666667</td>\n",
              "      <td>0</td>\n",
              "      <td>0</td>\n",
              "      <td>0</td>\n",
              "      <td>0</td>\n",
              "      <td>0</td>\n",
              "      <td>0</td>\n",
              "      <td>0</td>\n",
              "      <td>0</td>\n",
              "      <td>1</td>\n",
              "      <td>0</td>\n",
              "      <td>0</td>\n",
              "      <td>0</td>\n",
              "      <td>0</td>\n",
              "      <td>0</td>\n",
              "      <td>0</td>\n",
              "      <td>0</td>\n",
              "      <td>0</td>\n",
              "      <td>0</td>\n",
              "      <td>0</td>\n",
              "      <td>0</td>\n",
              "      <td>0</td>\n",
              "      <td>0</td>\n",
              "      <td>0</td>\n",
              "      <td>0</td>\n",
              "      <td>0</td>\n",
              "      <td>0</td>\n",
              "      <td>0</td>\n",
              "      <td>0</td>\n",
              "      <td>0</td>\n",
              "      <td>0</td>\n",
              "      <td>0</td>\n",
              "      <td>0</td>\n",
              "      <td>0</td>\n",
              "      <td>0</td>\n",
              "      <td>0</td>\n",
              "      <td>0</td>\n",
              "      <td>1</td>\n",
              "      <td>0</td>\n",
              "      <td>0</td>\n",
              "      <td>0</td>\n",
              "      <td>1</td>\n",
              "      <td>0</td>\n",
              "      <td>0</td>\n",
              "      <td>0</td>\n",
              "      <td>0</td>\n",
              "      <td>0</td>\n",
              "      <td>0</td>\n",
              "      <td>0</td>\n",
              "      <td>0</td>\n",
              "      <td>0</td>\n",
              "      <td>0</td>\n",
              "      <td>0</td>\n",
              "      <td>0</td>\n",
              "      <td>0</td>\n",
              "      <td>0</td>\n",
              "      <td>1</td>\n",
              "      <td>0</td>\n",
              "      <td>0</td>\n",
              "      <td>0</td>\n",
              "      <td>0</td>\n",
              "      <td>0</td>\n",
              "      <td>0</td>\n",
              "      <td>0</td>\n",
              "      <td>0</td>\n",
              "      <td>2004</td>\n",
              "    </tr>\n",
              "    <tr>\n",
              "      <th>2</th>\n",
              "      <td>15600.0</td>\n",
              "      <td>36</td>\n",
              "      <td>10.49</td>\n",
              "      <td>506.97</td>\n",
              "      <td>12.79</td>\n",
              "      <td>13.0</td>\n",
              "      <td>0.0</td>\n",
              "      <td>11987.0</td>\n",
              "      <td>26.0</td>\n",
              "      <td>0.0</td>\n",
              "      <td>3588.083333</td>\n",
              "      <td>0</td>\n",
              "      <td>0</td>\n",
              "      <td>0</td>\n",
              "      <td>0</td>\n",
              "      <td>0</td>\n",
              "      <td>0</td>\n",
              "      <td>1</td>\n",
              "      <td>0</td>\n",
              "      <td>0</td>\n",
              "      <td>0</td>\n",
              "      <td>0</td>\n",
              "      <td>0</td>\n",
              "      <td>0</td>\n",
              "      <td>0</td>\n",
              "      <td>0</td>\n",
              "      <td>0</td>\n",
              "      <td>0</td>\n",
              "      <td>0</td>\n",
              "      <td>0</td>\n",
              "      <td>0</td>\n",
              "      <td>0</td>\n",
              "      <td>0</td>\n",
              "      <td>0</td>\n",
              "      <td>0</td>\n",
              "      <td>0</td>\n",
              "      <td>0</td>\n",
              "      <td>0</td>\n",
              "      <td>0</td>\n",
              "      <td>0</td>\n",
              "      <td>0</td>\n",
              "      <td>0</td>\n",
              "      <td>0</td>\n",
              "      <td>0</td>\n",
              "      <td>0</td>\n",
              "      <td>0</td>\n",
              "      <td>1</td>\n",
              "      <td>1</td>\n",
              "      <td>0</td>\n",
              "      <td>0</td>\n",
              "      <td>1</td>\n",
              "      <td>0</td>\n",
              "      <td>0</td>\n",
              "      <td>0</td>\n",
              "      <td>0</td>\n",
              "      <td>0</td>\n",
              "      <td>0</td>\n",
              "      <td>0</td>\n",
              "      <td>0</td>\n",
              "      <td>0</td>\n",
              "      <td>0</td>\n",
              "      <td>0</td>\n",
              "      <td>0</td>\n",
              "      <td>0</td>\n",
              "      <td>0</td>\n",
              "      <td>1</td>\n",
              "      <td>1</td>\n",
              "      <td>0</td>\n",
              "      <td>0</td>\n",
              "      <td>0</td>\n",
              "      <td>0</td>\n",
              "      <td>0</td>\n",
              "      <td>0</td>\n",
              "      <td>0</td>\n",
              "      <td>0</td>\n",
              "      <td>2007</td>\n",
              "    </tr>\n",
              "    <tr>\n",
              "      <th>3</th>\n",
              "      <td>7200.0</td>\n",
              "      <td>36</td>\n",
              "      <td>6.49</td>\n",
              "      <td>220.65</td>\n",
              "      <td>2.60</td>\n",
              "      <td>6.0</td>\n",
              "      <td>0.0</td>\n",
              "      <td>5472.0</td>\n",
              "      <td>13.0</td>\n",
              "      <td>0.0</td>\n",
              "      <td>4500.000000</td>\n",
              "      <td>1</td>\n",
              "      <td>0</td>\n",
              "      <td>0</td>\n",
              "      <td>0</td>\n",
              "      <td>0</td>\n",
              "      <td>0</td>\n",
              "      <td>0</td>\n",
              "      <td>0</td>\n",
              "      <td>0</td>\n",
              "      <td>0</td>\n",
              "      <td>0</td>\n",
              "      <td>0</td>\n",
              "      <td>0</td>\n",
              "      <td>0</td>\n",
              "      <td>0</td>\n",
              "      <td>0</td>\n",
              "      <td>0</td>\n",
              "      <td>0</td>\n",
              "      <td>0</td>\n",
              "      <td>0</td>\n",
              "      <td>0</td>\n",
              "      <td>0</td>\n",
              "      <td>0</td>\n",
              "      <td>0</td>\n",
              "      <td>0</td>\n",
              "      <td>0</td>\n",
              "      <td>0</td>\n",
              "      <td>0</td>\n",
              "      <td>0</td>\n",
              "      <td>0</td>\n",
              "      <td>0</td>\n",
              "      <td>0</td>\n",
              "      <td>0</td>\n",
              "      <td>0</td>\n",
              "      <td>0</td>\n",
              "      <td>0</td>\n",
              "      <td>1</td>\n",
              "      <td>0</td>\n",
              "      <td>0</td>\n",
              "      <td>1</td>\n",
              "      <td>0</td>\n",
              "      <td>0</td>\n",
              "      <td>0</td>\n",
              "      <td>0</td>\n",
              "      <td>0</td>\n",
              "      <td>0</td>\n",
              "      <td>0</td>\n",
              "      <td>0</td>\n",
              "      <td>0</td>\n",
              "      <td>0</td>\n",
              "      <td>0</td>\n",
              "      <td>0</td>\n",
              "      <td>0</td>\n",
              "      <td>0</td>\n",
              "      <td>1</td>\n",
              "      <td>0</td>\n",
              "      <td>0</td>\n",
              "      <td>0</td>\n",
              "      <td>0</td>\n",
              "      <td>0</td>\n",
              "      <td>0</td>\n",
              "      <td>0</td>\n",
              "      <td>0</td>\n",
              "      <td>0</td>\n",
              "      <td>2006</td>\n",
              "    </tr>\n",
              "    <tr>\n",
              "      <th>4</th>\n",
              "      <td>24375.0</td>\n",
              "      <td>60</td>\n",
              "      <td>17.27</td>\n",
              "      <td>609.33</td>\n",
              "      <td>33.95</td>\n",
              "      <td>13.0</td>\n",
              "      <td>0.0</td>\n",
              "      <td>24584.0</td>\n",
              "      <td>43.0</td>\n",
              "      <td>1.0</td>\n",
              "      <td>4583.333333</td>\n",
              "      <td>0</td>\n",
              "      <td>0</td>\n",
              "      <td>0</td>\n",
              "      <td>0</td>\n",
              "      <td>0</td>\n",
              "      <td>0</td>\n",
              "      <td>0</td>\n",
              "      <td>0</td>\n",
              "      <td>0</td>\n",
              "      <td>0</td>\n",
              "      <td>0</td>\n",
              "      <td>0</td>\n",
              "      <td>0</td>\n",
              "      <td>1</td>\n",
              "      <td>0</td>\n",
              "      <td>0</td>\n",
              "      <td>0</td>\n",
              "      <td>0</td>\n",
              "      <td>0</td>\n",
              "      <td>0</td>\n",
              "      <td>0</td>\n",
              "      <td>0</td>\n",
              "      <td>0</td>\n",
              "      <td>0</td>\n",
              "      <td>0</td>\n",
              "      <td>0</td>\n",
              "      <td>0</td>\n",
              "      <td>0</td>\n",
              "      <td>0</td>\n",
              "      <td>0</td>\n",
              "      <td>0</td>\n",
              "      <td>0</td>\n",
              "      <td>0</td>\n",
              "      <td>0</td>\n",
              "      <td>1</td>\n",
              "      <td>0</td>\n",
              "      <td>1</td>\n",
              "      <td>0</td>\n",
              "      <td>0</td>\n",
              "      <td>1</td>\n",
              "      <td>0</td>\n",
              "      <td>0</td>\n",
              "      <td>0</td>\n",
              "      <td>0</td>\n",
              "      <td>0</td>\n",
              "      <td>0</td>\n",
              "      <td>0</td>\n",
              "      <td>0</td>\n",
              "      <td>0</td>\n",
              "      <td>0</td>\n",
              "      <td>0</td>\n",
              "      <td>0</td>\n",
              "      <td>0</td>\n",
              "      <td>0</td>\n",
              "      <td>0</td>\n",
              "      <td>0</td>\n",
              "      <td>1</td>\n",
              "      <td>0</td>\n",
              "      <td>0</td>\n",
              "      <td>0</td>\n",
              "      <td>0</td>\n",
              "      <td>0</td>\n",
              "      <td>0</td>\n",
              "      <td>0</td>\n",
              "      <td>1999</td>\n",
              "    </tr>\n",
              "  </tbody>\n",
              "</table>\n",
              "</div>\n",
              "      <button class=\"colab-df-convert\" onclick=\"convertToInteractive('df-f707da3f-ceff-4fd8-86c2-dd2a29083413')\"\n",
              "              title=\"Convert this dataframe to an interactive table.\"\n",
              "              style=\"display:none;\">\n",
              "        \n",
              "  <svg xmlns=\"http://www.w3.org/2000/svg\" height=\"24px\"viewBox=\"0 0 24 24\"\n",
              "       width=\"24px\">\n",
              "    <path d=\"M0 0h24v24H0V0z\" fill=\"none\"/>\n",
              "    <path d=\"M18.56 5.44l.94 2.06.94-2.06 2.06-.94-2.06-.94-.94-2.06-.94 2.06-2.06.94zm-11 1L8.5 8.5l.94-2.06 2.06-.94-2.06-.94L8.5 2.5l-.94 2.06-2.06.94zm10 10l.94 2.06.94-2.06 2.06-.94-2.06-.94-.94-2.06-.94 2.06-2.06.94z\"/><path d=\"M17.41 7.96l-1.37-1.37c-.4-.4-.92-.59-1.43-.59-.52 0-1.04.2-1.43.59L10.3 9.45l-7.72 7.72c-.78.78-.78 2.05 0 2.83L4 21.41c.39.39.9.59 1.41.59.51 0 1.02-.2 1.41-.59l7.78-7.78 2.81-2.81c.8-.78.8-2.07 0-2.86zM5.41 20L4 18.59l7.72-7.72 1.47 1.35L5.41 20z\"/>\n",
              "  </svg>\n",
              "      </button>\n",
              "      \n",
              "  <style>\n",
              "    .colab-df-container {\n",
              "      display:flex;\n",
              "      flex-wrap:wrap;\n",
              "      gap: 12px;\n",
              "    }\n",
              "\n",
              "    .colab-df-convert {\n",
              "      background-color: #E8F0FE;\n",
              "      border: none;\n",
              "      border-radius: 50%;\n",
              "      cursor: pointer;\n",
              "      display: none;\n",
              "      fill: #1967D2;\n",
              "      height: 32px;\n",
              "      padding: 0 0 0 0;\n",
              "      width: 32px;\n",
              "    }\n",
              "\n",
              "    .colab-df-convert:hover {\n",
              "      background-color: #E2EBFA;\n",
              "      box-shadow: 0px 1px 2px rgba(60, 64, 67, 0.3), 0px 1px 3px 1px rgba(60, 64, 67, 0.15);\n",
              "      fill: #174EA6;\n",
              "    }\n",
              "\n",
              "    [theme=dark] .colab-df-convert {\n",
              "      background-color: #3B4455;\n",
              "      fill: #D2E3FC;\n",
              "    }\n",
              "\n",
              "    [theme=dark] .colab-df-convert:hover {\n",
              "      background-color: #434B5C;\n",
              "      box-shadow: 0px 1px 3px 1px rgba(0, 0, 0, 0.15);\n",
              "      filter: drop-shadow(0px 1px 2px rgba(0, 0, 0, 0.3));\n",
              "      fill: #FFFFFF;\n",
              "    }\n",
              "  </style>\n",
              "\n",
              "      <script>\n",
              "        const buttonEl =\n",
              "          document.querySelector('#df-f707da3f-ceff-4fd8-86c2-dd2a29083413 button.colab-df-convert');\n",
              "        buttonEl.style.display =\n",
              "          google.colab.kernel.accessAllowed ? 'block' : 'none';\n",
              "\n",
              "        async function convertToInteractive(key) {\n",
              "          const element = document.querySelector('#df-f707da3f-ceff-4fd8-86c2-dd2a29083413');\n",
              "          const dataTable =\n",
              "            await google.colab.kernel.invokeFunction('convertToInteractive',\n",
              "                                                     [key], {});\n",
              "          if (!dataTable) return;\n",
              "\n",
              "          const docLinkHtml = 'Like what you see? Visit the ' +\n",
              "            '<a target=\"_blank\" href=https://colab.research.google.com/notebooks/data_table.ipynb>data table notebook</a>'\n",
              "            + ' to learn more about interactive tables.';\n",
              "          element.innerHTML = '';\n",
              "          dataTable['output_type'] = 'display_data';\n",
              "          await google.colab.output.renderOutput(dataTable, element);\n",
              "          const docLink = document.createElement('div');\n",
              "          docLink.innerHTML = docLinkHtml;\n",
              "          element.appendChild(docLink);\n",
              "        }\n",
              "      </script>\n",
              "    </div>\n",
              "  </div>\n",
              "  "
            ]
          },
          "metadata": {},
          "execution_count": 114
        }
      ]
    },
    {
      "cell_type": "code",
      "source": [
        "X_train, X_test, y_train, y_test = train_test_split(X, y, test_size=.2)"
      ],
      "metadata": {
        "id": "WkmyS3Mdgruh"
      },
      "execution_count": 115,
      "outputs": []
    },
    {
      "cell_type": "code",
      "source": [
        "scaler = MinMaxScaler()"
      ],
      "metadata": {
        "id": "TS-c-wLfhMNa"
      },
      "execution_count": 116,
      "outputs": []
    },
    {
      "cell_type": "code",
      "source": [
        "X_train = scaler.fit_transform(X_train)\n",
        "\n",
        "X_test = scaler.transform(X_test)"
      ],
      "metadata": {
        "id": "L6HvUBTbheWV"
      },
      "execution_count": 117,
      "outputs": []
    },
    {
      "cell_type": "code",
      "source": [
        "svc = LinearSVC()\n",
        "svc.fit(X_train, y_train)\n",
        "print('SVC score: ')\n",
        "svc.score(X_test, y_test)"
      ],
      "metadata": {
        "colab": {
          "base_uri": "https://localhost:8080/"
        },
        "id": "_-7SjdM5hn7d",
        "outputId": "db82c111-bab3-4ca8-d577-4609df66df3d"
      },
      "execution_count": 118,
      "outputs": [
        {
          "output_type": "stream",
          "name": "stdout",
          "text": [
            "SVC score: \n"
          ]
        },
        {
          "output_type": "execute_result",
          "data": {
            "text/plain": [
              "0.8875211473878242"
            ]
          },
          "metadata": {},
          "execution_count": 118
        }
      ]
    },
    {
      "cell_type": "code",
      "source": [
        "y_pred = svc.predict(X_test)"
      ],
      "metadata": {
        "id": "VfqcJidZwaud"
      },
      "execution_count": 119,
      "outputs": []
    },
    {
      "cell_type": "code",
      "source": [
        "print(classification_report(y_test, y_pred))"
      ],
      "metadata": {
        "colab": {
          "base_uri": "https://localhost:8080/"
        },
        "id": "6qqvDwzTij8O",
        "outputId": "598dcab8-424f-45a0-e916-9b3429cc62a4"
      },
      "execution_count": 120,
      "outputs": [
        {
          "output_type": "stream",
          "name": "stdout",
          "text": [
            "              precision    recall  f1-score   support\n",
            "\n",
            "           0       0.98      0.44      0.61     15624\n",
            "           1       0.88      1.00      0.93     63582\n",
            "\n",
            "    accuracy                           0.89     79206\n",
            "   macro avg       0.93      0.72      0.77     79206\n",
            "weighted avg       0.90      0.89      0.87     79206\n",
            "\n"
          ]
        }
      ]
    },
    {
      "cell_type": "code",
      "source": [
        "cm = confusion_matrix(y_test, y_pred, normalize='all')"
      ],
      "metadata": {
        "id": "ZNSeKGjSWAhI"
      },
      "execution_count": 121,
      "outputs": []
    },
    {
      "cell_type": "code",
      "source": [
        "\n",
        "disp = ConfusionMatrixDisplay(confusion_matrix=cm, display_labels=svc.classes_)\n",
        "\n",
        "disp.plot()"
      ],
      "metadata": {
        "colab": {
          "base_uri": "https://localhost:8080/",
          "height": 300
        },
        "id": "tKgOK1X8WHUQ",
        "outputId": "80f91792-0f46-4d3a-9eef-4351ed11fe0f"
      },
      "execution_count": 122,
      "outputs": [
        {
          "output_type": "execute_result",
          "data": {
            "text/plain": [
              "<sklearn.metrics._plot.confusion_matrix.ConfusionMatrixDisplay at 0x7f8983299df0>"
            ]
          },
          "metadata": {},
          "execution_count": 122
        },
        {
          "output_type": "display_data",
          "data": {
            "text/plain": [
              "<Figure size 432x288 with 2 Axes>"
            ],
            "image/png": "[encoded data removed]"
          },
          "metadata": {
            "needs_background": "light"
          }
        }
      ]
    },
    {
      "cell_type": "code",
      "source": [
        "log_reg = LogisticRegression()\n",
        "\n",
        "log_reg.fit(X_train, y_train)\n",
        "\n",
        "print('Logistic regression score: ', log_reg.score(X_test, y_test))"
      ],
      "metadata": {
        "colab": {
          "base_uri": "https://localhost:8080/"
        },
        "id": "__7S7-z2WvIr",
        "outputId": "324a8e28-d276-4109-e8ca-91cf5f6fcd4d"
      },
      "execution_count": 123,
      "outputs": [
        {
          "output_type": "stream",
          "name": "stdout",
          "text": [
            "Logistic regression score:  0.8876221498371335\n"
          ]
        }
      ]
    },
    {
      "cell_type": "code",
      "source": [
        "y_pred = log_reg.predict(X_test)\n",
        "\n",
        "print(classification_report(y_test, y_pred))\n",
        "\n",
        "cm = confusion_matrix(y_test, y_pred, normalize='all')\n",
        "\n",
        "disp = ConfusionMatrixDisplay(confusion_matrix=cm, display_labels=log_reg.classes_)\n",
        "\n",
        "disp.plot()"
      ],
      "metadata": {
        "colab": {
          "base_uri": "https://localhost:8080/",
          "height": 453
        },
        "id": "-WIS7PnDdKCN",
        "outputId": "f4ddfe89-25af-4674-cee6-e899ce28f0c3"
      },
      "execution_count": 124,
      "outputs": [
        {
          "output_type": "stream",
          "name": "stdout",
          "text": [
            "              precision    recall  f1-score   support\n",
            "\n",
            "           0       0.97      0.44      0.61     15624\n",
            "           1       0.88      1.00      0.93     63582\n",
            "\n",
            "    accuracy                           0.89     79206\n",
            "   macro avg       0.92      0.72      0.77     79206\n",
            "weighted avg       0.90      0.89      0.87     79206\n",
            "\n"
          ]
        },
        {
          "output_type": "execute_result",
          "data": {
            "text/plain": [
              "<sklearn.metrics._plot.confusion_matrix.ConfusionMatrixDisplay at 0x7f8983299a00>"
            ]
          },
          "metadata": {},
          "execution_count": 124
        },
        {
          "output_type": "display_data",
          "data": {
            "text/plain": [
              "<Figure size 432x288 with 2 Axes>"
            ],
            "image/png": "[encoded data removed]"
          },
          "metadata": {
            "needs_background": "light"
          }
        }
      ]
    },
    {
      "cell_type": "code",
      "source": [
        "gbc = GradientBoostingClassifier()\n",
        "\n",
        "gbc.fit(X_train, y_train)\n",
        "\n",
        "print('Gradient Boosting classifier: ', gbc.score(X_test, y_test))"
      ],
      "metadata": {
        "colab": {
          "base_uri": "https://localhost:8080/"
        },
        "id": "yvTc_3fwdl8l",
        "outputId": "79481e44-ace8-46a1-fce5-45ce07ab7937"
      },
      "execution_count": 125,
      "outputs": [
        {
          "output_type": "stream",
          "name": "stdout",
          "text": [
            "Gradient Boosting classifier:  0.8875968992248062\n"
          ]
        }
      ]
    },
    {
      "cell_type": "code",
      "source": [
        "y_pred = gbc.predict(X_test)\n",
        "\n",
        "\n",
        "print(classification_report(y_test, y_pred))\n",
        "\n",
        "cm = confusion_matrix(y_test, y_pred, normalize='all')\n",
        "\n",
        "disp = ConfusionMatrixDisplay(confusion_matrix=cm, display_labels=gbc.classes_)"
      ],
      "metadata": {
        "colab": {
          "base_uri": "https://localhost:8080/"
        },
        "id": "UagIVoH1dzXP",
        "outputId": "92917a01-d3e8-4625-d81b-1a7a9373632e"
      },
      "execution_count": 126,
      "outputs": [
        {
          "output_type": "stream",
          "name": "stdout",
          "text": [
            "              precision    recall  f1-score   support\n",
            "\n",
            "           0       0.99      0.43      0.60     15624\n",
            "           1       0.88      1.00      0.93     63582\n",
            "\n",
            "    accuracy                           0.89     79206\n",
            "   macro avg       0.93      0.72      0.77     79206\n",
            "weighted avg       0.90      0.89      0.87     79206\n",
            "\n"
          ]
        }
      ]
    },
    {
      "cell_type": "code",
      "source": [
        "disp.plot()"
      ],
      "metadata": {
        "colab": {
          "base_uri": "https://localhost:8080/",
          "height": 300
        },
        "id": "K-Vn2YyIeyH8",
        "outputId": "8e95af42-da2a-4e11-8b89-7ea702b747f3"
      },
      "execution_count": 127,
      "outputs": [
        {
          "output_type": "execute_result",
          "data": {
            "text/plain": [
              "<sklearn.metrics._plot.confusion_matrix.ConfusionMatrixDisplay at 0x7f897513aa90>"
            ]
          },
          "metadata": {},
          "execution_count": 127
        },
        {
          "output_type": "display_data",
          "data": {
            "text/plain": [
              "<Figure size 432x288 with 2 Axes>"
            ],
            "image/png": "[encoded data removed]"
          },
          "metadata": {
            "needs_background": "light"
          }
        }
      ]
    },
    {
      "cell_type": "code",
      "source": [
        "model = Sequential()\n",
        "\n",
        "model.add(Dense(80, activation='relu'))\n",
        "model.add(Dropout(.2))\n",
        "model.add(Dense(50, activation='relu'))\n",
        "model.add(Dropout(.4))\n",
        "model.add(Dense(35, activation='relu'))\n",
        "model.add(Dropout(.3))\n",
        "\n",
        "model.add(Dense(units=1, activation='sigmoid'))\n",
        "\n",
        "model.compile(loss='binary_crossentropy', optimizer='adam', metrics=['accuracy'])"
      ],
      "metadata": {
        "id": "nmf0g1l-gNiA"
      },
      "execution_count": 128,
      "outputs": []
    },
    {
      "cell_type": "code",
      "source": [
        "model.fit(X_train, y_train, epochs=50, batch_size=512, validation_data=(X_test, y_test))"
      ],
      "metadata": {
        "colab": {
          "base_uri": "https://localhost:8080/"
        },
        "id": "XZlVluZZg9mI",
        "outputId": "0f121af7-bb9b-4ba4-80cd-b15964358152"
      },
      "execution_count": 129,
      "outputs": [
        {
          "output_type": "stream",
          "name": "stdout",
          "text": [
            "Epoch 1/50\n",
            "619/619 [==============================] - 5s 7ms/step - loss: 0.3194 - accuracy: 0.8715 - val_loss: 0.2627 - val_accuracy: 0.8875\n",
            "Epoch 2/50\n",
            "619/619 [==============================] - 3s 5ms/step - loss: 0.2679 - accuracy: 0.8881 - val_loss: 0.2611 - val_accuracy: 0.8875\n",
            "Epoch 3/50\n",
            "619/619 [==============================] - 3s 5ms/step - loss: 0.2649 - accuracy: 0.8880 - val_loss: 0.2609 - val_accuracy: 0.8875\n",
            "Epoch 4/50\n",
            "619/619 [==============================] - 3s 5ms/step - loss: 0.2634 - accuracy: 0.8883 - val_loss: 0.2601 - val_accuracy: 0.8875\n",
            "Epoch 5/50\n",
            "619/619 [==============================] - 4s 6ms/step - loss: 0.2625 - accuracy: 0.8883 - val_loss: 0.2597 - val_accuracy: 0.8875\n",
            "Epoch 6/50\n",
            "619/619 [==============================] - 3s 5ms/step - loss: 0.2619 - accuracy: 0.8883 - val_loss: 0.2603 - val_accuracy: 0.8875\n",
            "Epoch 7/50\n",
            "619/619 [==============================] - 3s 5ms/step - loss: 0.2615 - accuracy: 0.8882 - val_loss: 0.2597 - val_accuracy: 0.8875\n",
            "Epoch 8/50\n",
            "619/619 [==============================] - 3s 5ms/step - loss: 0.2610 - accuracy: 0.8885 - val_loss: 0.2595 - val_accuracy: 0.8875\n",
            "Epoch 9/50\n",
            "619/619 [==============================] - 4s 7ms/step - loss: 0.2605 - accuracy: 0.8887 - val_loss: 0.2601 - val_accuracy: 0.8875\n",
            "Epoch 10/50\n",
            "619/619 [==============================] - 3s 5ms/step - loss: 0.2603 - accuracy: 0.8885 - val_loss: 0.2593 - val_accuracy: 0.8873\n",
            "Epoch 11/50\n",
            "619/619 [==============================] - 3s 5ms/step - loss: 0.2602 - accuracy: 0.8884 - val_loss: 0.2591 - val_accuracy: 0.8875\n",
            "Epoch 12/50\n",
            "619/619 [==============================] - 3s 4ms/step - loss: 0.2598 - accuracy: 0.8887 - val_loss: 0.2597 - val_accuracy: 0.8875\n",
            "Epoch 13/50\n",
            "619/619 [==============================] - 4s 6ms/step - loss: 0.2598 - accuracy: 0.8884 - val_loss: 0.2592 - val_accuracy: 0.8873\n",
            "Epoch 14/50\n",
            "619/619 [==============================] - 3s 5ms/step - loss: 0.2594 - accuracy: 0.8888 - val_loss: 0.2590 - val_accuracy: 0.8877\n",
            "Epoch 15/50\n",
            "619/619 [==============================] - 3s 5ms/step - loss: 0.2593 - accuracy: 0.8886 - val_loss: 0.2591 - val_accuracy: 0.8875\n",
            "Epoch 16/50\n",
            "619/619 [==============================] - 3s 5ms/step - loss: 0.2591 - accuracy: 0.8887 - val_loss: 0.2592 - val_accuracy: 0.8874\n",
            "Epoch 17/50\n",
            "619/619 [==============================] - 4s 6ms/step - loss: 0.2588 - accuracy: 0.8887 - val_loss: 0.2590 - val_accuracy: 0.8875\n",
            "Epoch 18/50\n",
            "619/619 [==============================] - 3s 5ms/step - loss: 0.2587 - accuracy: 0.8885 - val_loss: 0.2594 - val_accuracy: 0.8875\n",
            "Epoch 19/50\n",
            "619/619 [==============================] - 3s 5ms/step - loss: 0.2586 - accuracy: 0.8889 - val_loss: 0.2592 - val_accuracy: 0.8874\n",
            "Epoch 20/50\n",
            "619/619 [==============================] - 3s 5ms/step - loss: 0.2584 - accuracy: 0.8889 - val_loss: 0.2592 - val_accuracy: 0.8874\n",
            "Epoch 21/50\n",
            "619/619 [==============================] - 3s 6ms/step - loss: 0.2581 - accuracy: 0.8889 - val_loss: 0.2593 - val_accuracy: 0.8873\n",
            "Epoch 22/50\n",
            "619/619 [==============================] - 3s 5ms/step - loss: 0.2578 - accuracy: 0.8890 - val_loss: 0.2591 - val_accuracy: 0.8876\n",
            "Epoch 23/50\n",
            "619/619 [==============================] - 3s 5ms/step - loss: 0.2578 - accuracy: 0.8888 - val_loss: 0.2591 - val_accuracy: 0.8878\n",
            "Epoch 24/50\n",
            "619/619 [==============================] - 3s 5ms/step - loss: 0.2575 - accuracy: 0.8893 - val_loss: 0.2592 - val_accuracy: 0.8875\n",
            "Epoch 25/50\n",
            "619/619 [==============================] - 4s 6ms/step - loss: 0.2574 - accuracy: 0.8892 - val_loss: 0.2590 - val_accuracy: 0.8876\n",
            "Epoch 26/50\n",
            "619/619 [==============================] - 3s 5ms/step - loss: 0.2573 - accuracy: 0.8892 - val_loss: 0.2594 - val_accuracy: 0.8875\n",
            "Epoch 27/50\n",
            "619/619 [==============================] - 3s 5ms/step - loss: 0.2574 - accuracy: 0.8890 - val_loss: 0.2590 - val_accuracy: 0.8879\n",
            "Epoch 28/50\n",
            "619/619 [==============================] - 3s 5ms/step - loss: 0.2571 - accuracy: 0.8894 - val_loss: 0.2591 - val_accuracy: 0.8879\n",
            "Epoch 29/50\n",
            "619/619 [==============================] - 4s 6ms/step - loss: 0.2571 - accuracy: 0.8892 - val_loss: 0.2590 - val_accuracy: 0.8878\n",
            "Epoch 30/50\n",
            "619/619 [==============================] - 3s 5ms/step - loss: 0.2569 - accuracy: 0.8892 - val_loss: 0.2589 - val_accuracy: 0.8876\n",
            "Epoch 31/50\n",
            "619/619 [==============================] - 3s 5ms/step - loss: 0.2570 - accuracy: 0.8892 - val_loss: 0.2591 - val_accuracy: 0.8877\n",
            "Epoch 32/50\n",
            "619/619 [==============================] - 3s 5ms/step - loss: 0.2566 - accuracy: 0.8896 - val_loss: 0.2591 - val_accuracy: 0.8875\n",
            "Epoch 33/50\n",
            "619/619 [==============================] - 3s 5ms/step - loss: 0.2566 - accuracy: 0.8893 - val_loss: 0.2589 - val_accuracy: 0.8876\n",
            "Epoch 34/50\n",
            "619/619 [==============================] - 3s 6ms/step - loss: 0.2564 - accuracy: 0.8894 - val_loss: 0.2587 - val_accuracy: 0.8881\n",
            "Epoch 35/50\n",
            "619/619 [==============================] - 3s 5ms/step - loss: 0.2564 - accuracy: 0.8894 - val_loss: 0.2588 - val_accuracy: 0.8875\n",
            "Epoch 36/50\n",
            "619/619 [==============================] - 3s 5ms/step - loss: 0.2562 - accuracy: 0.8895 - val_loss: 0.2587 - val_accuracy: 0.8873\n",
            "Epoch 37/50\n",
            "619/619 [==============================] - 4s 6ms/step - loss: 0.2562 - accuracy: 0.8895 - val_loss: 0.2590 - val_accuracy: 0.8875\n",
            "Epoch 38/50\n",
            "619/619 [==============================] - 3s 5ms/step - loss: 0.2562 - accuracy: 0.8896 - val_loss: 0.2588 - val_accuracy: 0.8875\n",
            "Epoch 39/50\n",
            "619/619 [==============================] - 3s 5ms/step - loss: 0.2559 - accuracy: 0.8894 - val_loss: 0.2587 - val_accuracy: 0.8877\n",
            "Epoch 40/50\n",
            "619/619 [==============================] - 3s 5ms/step - loss: 0.2559 - accuracy: 0.8897 - val_loss: 0.2594 - val_accuracy: 0.8876\n",
            "Epoch 41/50\n",
            "619/619 [==============================] - 3s 6ms/step - loss: 0.2557 - accuracy: 0.8896 - val_loss: 0.2590 - val_accuracy: 0.8877\n",
            "Epoch 42/50\n",
            "619/619 [==============================] - 4s 6ms/step - loss: 0.2558 - accuracy: 0.8894 - val_loss: 0.2595 - val_accuracy: 0.8875\n",
            "Epoch 43/50\n",
            "619/619 [==============================] - 3s 5ms/step - loss: 0.2554 - accuracy: 0.8896 - val_loss: 0.2587 - val_accuracy: 0.8881\n",
            "Epoch 44/50\n",
            "619/619 [==============================] - 3s 5ms/step - loss: 0.2554 - accuracy: 0.8895 - val_loss: 0.2584 - val_accuracy: 0.8877\n",
            "Epoch 45/50\n",
            "619/619 [==============================] - 3s 5ms/step - loss: 0.2552 - accuracy: 0.8894 - val_loss: 0.2590 - val_accuracy: 0.8876\n",
            "Epoch 46/50\n",
            "619/619 [==============================] - 4s 6ms/step - loss: 0.2552 - accuracy: 0.8899 - val_loss: 0.2589 - val_accuracy: 0.8877\n",
            "Epoch 47/50\n",
            "619/619 [==============================] - 3s 5ms/step - loss: 0.2549 - accuracy: 0.8901 - val_loss: 0.2587 - val_accuracy: 0.8879\n",
            "Epoch 48/50\n",
            "619/619 [==============================] - 3s 5ms/step - loss: 0.2550 - accuracy: 0.8897 - val_loss: 0.2589 - val_accuracy: 0.8880\n",
            "Epoch 49/50\n",
            "619/619 [==============================] - 3s 5ms/step - loss: 0.2550 - accuracy: 0.8898 - val_loss: 0.2588 - val_accuracy: 0.8876\n",
            "Epoch 50/50\n",
            "619/619 [==============================] - 3s 6ms/step - loss: 0.2549 - accuracy: 0.8900 - val_loss: 0.2585 - val_accuracy: 0.8878\n"
          ]
        },
        {
          "output_type": "execute_result",
          "data": {
            "text/plain": [
              "<keras.callbacks.History at 0x7f8982a15f40>"
            ]
          },
          "metadata": {},
          "execution_count": 129
        }
      ]
    },
    {
      "cell_type": "code",
      "source": [
        "y_pred = (model.predict(X_test) > 0.5).astype(\"int32\")\n",
        "\n",
        "print(classification_report(y_test, y_pred))"
      ],
      "metadata": {
        "colab": {
          "base_uri": "https://localhost:8080/"
        },
        "id": "-ocBbT9dhHxo",
        "outputId": "d4312b76-3965-4efa-83aa-1eca522a5b1c"
      },
      "execution_count": 130,
      "outputs": [
        {
          "output_type": "stream",
          "name": "stdout",
          "text": [
            "2476/2476 [==============================] - 3s 1ms/step\n",
            "              precision    recall  f1-score   support\n",
            "\n",
            "           0       0.95      0.45      0.61     15624\n",
            "           1       0.88      0.99      0.93     63582\n",
            "\n",
            "    accuracy                           0.89     79206\n",
            "   macro avg       0.92      0.72      0.77     79206\n",
            "weighted avg       0.90      0.89      0.87     79206\n",
            "\n"
          ]
        }
      ]
    },
    {
      "cell_type": "code",
      "source": [],
      "metadata": {
        "id": "KhsjD-WIjUxw"
      },
      "execution_count": 130,
      "outputs": []
    }
  ]
}